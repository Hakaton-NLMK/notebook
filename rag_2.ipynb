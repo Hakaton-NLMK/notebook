{
  "cells": [
    {
      "cell_type": "markdown",
      "metadata": {
        "id": "ow2kzqLXGHRA"
      },
      "source": [
        "# Connect to ClickHouse Database"
      ]
    },
    {
      "cell_type": "code",
      "execution_count": 3,
      "metadata": {
        "colab": {
          "base_uri": "https://localhost:8080/"
        },
        "execution": {
          "iopub.execute_input": "2024-09-11T18:26:56.639096Z",
          "iopub.status.busy": "2024-09-11T18:26:56.638102Z",
          "iopub.status.idle": "2024-09-11T18:27:22.879742Z",
          "shell.execute_reply": "2024-09-11T18:27:22.878976Z",
          "shell.execute_reply.started": "2024-09-11T18:26:56.639063Z"
        },
        "id": "Kt5R0c78GJ-6",
        "outputId": "44fff20b-a53e-448c-e078-67b3c13a8c1f"
      },
      "outputs": [
        {
          "output_type": "stream",
          "name": "stdout",
          "text": [
            "--2024-09-12 12:40:21--  https://storage.yandexcloud.net/cloud-certs/CA.pem\n",
            "Resolving storage.yandexcloud.net (storage.yandexcloud.net)... 213.180.193.243, 2a02:6b8::1d9\n",
            "Connecting to storage.yandexcloud.net (storage.yandexcloud.net)|213.180.193.243|:443... connected.\n",
            "HTTP request sent, awaiting response... 200 OK\n",
            "Length: 3579 (3.5K) [application/x-x509-ca-cert]\n",
            "Saving to: ‘/home/jupyter/datasphere/project/.clickhouse/root.crt’\n",
            "\n",
            "/home/jupyter/datas 100%[===================>]   3.50K  --.-KB/s    in 0s      \n",
            "\n",
            "2024-09-12 12:40:22 (828 MB/s) - ‘/home/jupyter/datasphere/project/.clickhouse/root.crt’ saved [3579/3579]\n",
            "\n"
          ]
        }
      ],
      "source": [
        "!mkdir -p /home/jupyter/datasphere/project/.clickhouse && \\\n",
        "wget \"https://storage.yandexcloud.net/cloud-certs/CA.pem\" \\\n",
        "     --output-document /home/jupyter/datasphere/project/.clickhouse/root.crt && \\\n",
        "chmod 0600 /home/jupyter/datasphere/project/.clickhouse/root.crt"
      ]
    },
    {
      "cell_type": "code",
      "execution_count": 4,
      "metadata": {
        "execution": {
          "iopub.execute_input": "2024-09-11T18:27:22.881520Z",
          "iopub.status.busy": "2024-09-11T18:27:22.880952Z",
          "iopub.status.idle": "2024-09-11T18:27:22.892422Z",
          "shell.execute_reply": "2024-09-11T18:27:22.891786Z",
          "shell.execute_reply.started": "2024-09-11T18:27:22.881497Z"
        },
        "id": "iWr22zbZGaiU"
      },
      "outputs": [],
      "source": [
        "# указываем параметры подключения\n",
        "CA = '/home/jupyter/datasphere/project/.clickhouse/root.crt' # если вы не меняли путь при скачивании сертификата\n",
        "\n",
        "VERIFY = True\n",
        "SECURE = True\n",
        "USER = 'admin'\n",
        "PASSWORD = 'hakaton1'\n",
        "HOST = \"rc1d-uq593a42e02ikh2k.mdb.yandexcloud.net\" # адрес Clickhouse\n",
        "PORT = 8443"
      ]
    },
    {
      "cell_type": "code",
      "execution_count": 5,
      "metadata": {
        "execution": {
          "iopub.execute_input": "2024-09-11T18:27:22.893561Z",
          "iopub.status.busy": "2024-09-11T18:27:22.893209Z",
          "iopub.status.idle": "2024-09-11T18:27:23.031219Z",
          "shell.execute_reply": "2024-09-11T18:27:23.029182Z",
          "shell.execute_reply.started": "2024-09-11T18:27:22.893541Z"
        },
        "id": "kSV59cnXGc28",
        "tags": []
      },
      "outputs": [],
      "source": [
        "!pip install clickhouse_connect > /dev/null"
      ]
    },
    {
      "cell_type": "code",
      "execution_count": 6,
      "metadata": {
        "colab": {
          "base_uri": "https://localhost:8080/"
        },
        "execution": {
          "iopub.execute_input": "2024-09-11T18:28:04.111637Z",
          "iopub.status.busy": "2024-09-11T18:28:04.110583Z",
          "iopub.status.idle": "2024-09-11T18:28:04.419425Z",
          "shell.execute_reply": "2024-09-11T18:28:04.418744Z",
          "shell.execute_reply.started": "2024-09-11T18:28:04.111610Z"
        },
        "id": "MQzmKaulGgQI",
        "outputId": "9a2c2a98-2f19-4d5c-ef01-f23277b15999",
        "tags": []
      },
      "outputs": [
        {
          "output_type": "stream",
          "name": "stdout",
          "text": [
            "24.3.10.33\n"
          ]
        }
      ],
      "source": [
        "# импортируем библиотеку\n",
        "import clickhouse_connect\n",
        "\n",
        "# выполняем запрос - в случае успешного выполнения будет показана текущая версия Clickhouse\n",
        "with clickhouse_connect.get_client(\n",
        "            host=HOST, port=PORT, username=USER,\n",
        "            password=PASSWORD, secure=SECURE, verify=VERIFY, ca_cert=CA) as ch_client:\n",
        "        print(ch_client.command('SELECT version()'))"
      ]
    },
    {
      "cell_type": "markdown",
      "metadata": {
        "id": "OFfLas13D94G"
      },
      "source": [
        "# Генерация IAM токена"
      ]
    },
    {
      "cell_type": "code",
      "execution_count": 7,
      "metadata": {
        "colab": {
          "base_uri": "https://localhost:8080/"
        },
        "execution": {
          "iopub.execute_input": "2024-09-11T18:28:07.855512Z",
          "iopub.status.busy": "2024-09-11T18:28:07.854157Z",
          "iopub.status.idle": "2024-09-11T18:28:14.102356Z",
          "shell.execute_reply": "2024-09-11T18:28:14.101482Z",
          "shell.execute_reply.started": "2024-09-11T18:28:07.855469Z"
        },
        "id": "reSP_EJAS1XI",
        "outputId": "3e52e2c9-d796-4e71-bebd-b2d755060ae1",
        "tags": []
      },
      "outputs": [
        {
          "output_type": "stream",
          "name": "stdout",
          "text": [
            "\u001b[33mWARNING: Skipping jwt as it is not installed.\u001b[0m\u001b[33m\n",
            "\u001b[0mRequirement already satisfied: PyJWT in /usr/local/lib/python3.10/dist-packages (2.9.0)\n"
          ]
        }
      ],
      "source": [
        "# Устанавливаем пакеты, необходимые для обращения к YandexGPT API\n",
        "%pip uninstall jwt\n",
        "%pip install PyJWT -U"
      ]
    },
    {
      "cell_type": "code",
      "execution_count": 8,
      "metadata": {
        "execution": {
          "iopub.execute_input": "2024-09-11T18:28:14.104713Z",
          "iopub.status.busy": "2024-09-11T18:28:14.103989Z",
          "iopub.status.idle": "2024-09-11T18:28:14.447490Z",
          "shell.execute_reply": "2024-09-11T18:28:14.446780Z",
          "shell.execute_reply.started": "2024-09-11T18:28:14.104677Z"
        },
        "id": "20DCZxM0S2Uo",
        "tags": []
      },
      "outputs": [],
      "source": [
        "import requests\n",
        "import json\n",
        "import time\n",
        "import jwt\n",
        "import os"
      ]
    },
    {
      "cell_type": "code",
      "execution_count": 9,
      "metadata": {
        "execution": {
          "iopub.execute_input": "2024-09-11T18:28:14.448943Z",
          "iopub.status.busy": "2024-09-11T18:28:14.448322Z",
          "iopub.status.idle": "2024-09-11T18:28:14.460691Z",
          "shell.execute_reply": "2024-09-11T18:28:14.460094Z",
          "shell.execute_reply.started": "2024-09-11T18:28:14.448920Z"
        },
        "id": "zmjX9NSbS5CX",
        "tags": []
      },
      "outputs": [],
      "source": [
        "# Замените <идентификатор_сервисного_аккаунта> на ваше значение\n",
        "service_account_id = \"aje286em9u4ibs8572di\""
      ]
    },
    {
      "cell_type": "code",
      "execution_count": 11,
      "metadata": {
        "execution": {
          "iopub.execute_input": "2024-09-11T18:28:14.462750Z",
          "iopub.status.busy": "2024-09-11T18:28:14.462065Z",
          "iopub.status.idle": "2024-09-11T18:28:14.471463Z",
          "shell.execute_reply": "2024-09-11T18:28:14.470859Z",
          "shell.execute_reply.started": "2024-09-11T18:28:14.462726Z"
        },
        "id": "mBwlw1_fS65H",
        "tags": []
      },
      "outputs": [],
      "source": [
        "with open('/content/authorized_key.json') as f:\n",
        "    authorized_key = json.load(f)"
      ]
    },
    {
      "cell_type": "code",
      "execution_count": 12,
      "metadata": {
        "execution": {
          "iopub.execute_input": "2024-09-11T18:28:14.472752Z",
          "iopub.status.busy": "2024-09-11T18:28:14.472201Z",
          "iopub.status.idle": "2024-09-11T18:28:14.486274Z",
          "shell.execute_reply": "2024-09-11T18:28:14.485681Z",
          "shell.execute_reply.started": "2024-09-11T18:28:14.472732Z"
        },
        "id": "MzbF1Ud_TH2t",
        "tags": []
      },
      "outputs": [],
      "source": [
        "# Замените <идентификатор_ключа> на ваше значение\n",
        "key_id = \"ajeo9id7551hpq15fv3o\"\n",
        "private_key = authorized_key['private_key']"
      ]
    },
    {
      "cell_type": "code",
      "execution_count": 13,
      "metadata": {
        "execution": {
          "iopub.execute_input": "2024-09-11T18:28:14.487583Z",
          "iopub.status.busy": "2024-09-11T18:28:14.486999Z",
          "iopub.status.idle": "2024-09-11T18:28:14.572043Z",
          "shell.execute_reply": "2024-09-11T18:28:14.571384Z",
          "shell.execute_reply.started": "2024-09-11T18:28:14.487562Z"
        },
        "id": "S4iPkOTjTJT1",
        "tags": []
      },
      "outputs": [],
      "source": [
        "now = int(time.time())\n",
        "payload = {\n",
        "        'aud': 'https://iam.api.cloud.yandex.net/iam/v1/tokens',\n",
        "        'iss': service_account_id,\n",
        "        'iat': now,\n",
        "        'exp': now + 360}\n",
        "\n",
        "# Формирование JWT\n",
        "encoded_token = jwt.encode(\n",
        "    payload,\n",
        "    private_key,\n",
        "    algorithm='PS256',\n",
        "    headers={'kid': key_id})\n",
        "\n",
        "url = 'https://iam.api.cloud.yandex.net/iam/v1/tokens'\n",
        "x = requests.post(url,  headers={'Content-Type': 'application/json'}, json = {'jwt': encoded_token}).json()\n",
        "iam_token = x['iamToken']"
      ]
    },
    {
      "cell_type": "markdown",
      "metadata": {
        "id": "b-SG8dg2EOTI"
      },
      "source": [
        "# RAG Pipeline"
      ]
    },
    {
      "cell_type": "code",
      "execution_count": 14,
      "metadata": {
        "colab": {
          "base_uri": "https://localhost:8080/"
        },
        "execution": {
          "iopub.execute_input": "2024-09-11T18:28:14.573361Z",
          "iopub.status.busy": "2024-09-11T18:28:14.572828Z",
          "iopub.status.idle": "2024-09-11T18:28:14.629408Z",
          "shell.execute_reply": "2024-09-11T18:28:14.628491Z",
          "shell.execute_reply.started": "2024-09-11T18:28:14.573340Z"
        },
        "id": "HMEj-50tEgw1",
        "outputId": "067af136-03f0-4401-bec3-851e84d194a5",
        "tags": []
      },
      "outputs": [
        {
          "output_type": "stream",
          "name": "stdout",
          "text": [
            "\u001b[31mERROR: pip's dependency resolver does not currently take into account all the packages that are installed. This behaviour is the source of the following dependency conflicts.\n",
            "tensorflow-metadata 1.15.0 requires protobuf<4.21,>=3.20.3; python_version < \"3.11\", but you have protobuf 4.25.4 which is incompatible.\u001b[0m\u001b[31m\n",
            "\u001b[0m"
          ]
        }
      ],
      "source": [
        "!pip install -q langchain_community langchain yandexcloud > /dev/null"
      ]
    },
    {
      "cell_type": "code",
      "execution_count": 15,
      "metadata": {
        "colab": {
          "base_uri": "https://localhost:8080/",
          "height": 35
        },
        "execution": {
          "iopub.execute_input": "2024-09-11T18:28:32.254132Z",
          "iopub.status.busy": "2024-09-11T18:28:32.252807Z",
          "iopub.status.idle": "2024-09-11T18:28:32.266150Z",
          "shell.execute_reply": "2024-09-11T18:28:32.265405Z",
          "shell.execute_reply.started": "2024-09-11T18:28:32.254090Z"
        },
        "id": "6647pOMYEdP9",
        "outputId": "8ce822bb-5dd1-4b15-e000-52a6143c9942",
        "tags": []
      },
      "outputs": [
        {
          "output_type": "execute_result",
          "data": {
            "text/plain": [
              "'gpt://b1g01stbeeo96j8kfaiv/yandexgpt/latest'"
            ],
            "application/vnd.google.colaboratory.intrinsic+json": {
              "type": "string"
            }
          },
          "metadata": {},
          "execution_count": 15
        }
      ],
      "source": [
        "# llm\n",
        "folder = 'b1g01stbeeo96j8kfaiv'\n",
        "model_uri = f'gpt://{folder}/yandexgpt/latest'\n",
        "model_uri"
      ]
    },
    {
      "cell_type": "code",
      "execution_count": 16,
      "metadata": {
        "execution": {
          "iopub.execute_input": "2024-09-11T18:28:32.652606Z",
          "iopub.status.busy": "2024-09-11T18:28:32.651533Z",
          "iopub.status.idle": "2024-09-11T18:28:32.667842Z",
          "shell.execute_reply": "2024-09-11T18:28:32.667280Z",
          "shell.execute_reply.started": "2024-09-11T18:28:32.652576Z"
        },
        "id": "_drt1jl9SeQU",
        "tags": []
      },
      "outputs": [],
      "source": [
        "from langchain_community.embeddings.yandex import YandexGPTEmbeddings\n",
        "\n",
        "# Cоздаем объект YandexGPTEmbeddings для построения векторов с помощью YandexGPT\n",
        "embeddings = YandexGPTEmbeddings(iam_token=iam_token, folder_id=folder)"
      ]
    },
    {
      "cell_type": "code",
      "execution_count": 17,
      "metadata": {
        "execution": {
          "iopub.execute_input": "2024-09-11T18:28:33.335446Z",
          "iopub.status.busy": "2024-09-11T18:28:33.334448Z",
          "iopub.status.idle": "2024-09-11T18:28:34.009109Z",
          "shell.execute_reply": "2024-09-11T18:28:34.008403Z",
          "shell.execute_reply.started": "2024-09-11T18:28:33.335418Z"
        },
        "id": "doAx4j9eRbFn",
        "tags": []
      },
      "outputs": [],
      "source": [
        "from langchain_community.vectorstores import Clickhouse, ClickhouseSettings\n",
        "\n",
        "ch_config = ClickhouseSettings(host=HOST, port=PORT, username=USER, password=PASSWORD)\n",
        "\n",
        "docsearch = Clickhouse(embedding=embeddings, config=ch_config, verify=VERIFY, ca_cert=CA)"
      ]
    },
    {
      "cell_type": "code",
      "execution_count": 85,
      "metadata": {
        "execution": {
          "iopub.execute_input": "2024-09-11T18:56:16.124293Z",
          "iopub.status.busy": "2024-09-11T18:56:16.123216Z",
          "iopub.status.idle": "2024-09-11T18:56:16.134743Z",
          "shell.execute_reply": "2024-09-11T18:56:16.134112Z",
          "shell.execute_reply.started": "2024-09-11T18:56:16.124267Z"
        },
        "id": "iMda2BpKR3vc",
        "tags": []
      },
      "outputs": [],
      "source": [
        "retriever = docsearch.as_retriever(\n",
        "    search_type=\"similarity\",\n",
        "    search_kwargs={\"k\": 9},\n",
        ")"
      ]
    },
    {
      "cell_type": "code",
      "execution_count": 86,
      "metadata": {
        "execution": {
          "iopub.execute_input": "2024-09-11T20:39:39.708784Z",
          "iopub.status.busy": "2024-09-11T20:39:39.707668Z",
          "iopub.status.idle": "2024-09-11T20:39:39.722581Z",
          "shell.execute_reply": "2024-09-11T20:39:39.721965Z",
          "shell.execute_reply.started": "2024-09-11T20:39:39.708757Z"
        },
        "id": "zCKI8Ev2FAzX",
        "tags": []
      },
      "outputs": [],
      "source": [
        "question = \"Создай страницу c Sidebar слева, Header сверху страницы, далее ниже по горизонтале 9 шт. Input, справа от Input по горизонтале будет 2 шт. Button, далее ниже Tabs, далее ниже по вертикале 11 шт. Input, внизу страницы будет 2 шт. Button.\""
      ]
    },
    {
      "cell_type": "code",
      "execution_count": 87,
      "metadata": {
        "execution": {
          "iopub.execute_input": "2024-09-11T20:39:40.288391Z",
          "iopub.status.busy": "2024-09-11T20:39:40.287332Z",
          "iopub.status.idle": "2024-09-11T20:39:40.298481Z",
          "shell.execute_reply": "2024-09-11T20:39:40.297823Z",
          "shell.execute_reply.started": "2024-09-11T20:39:40.288364Z"
        },
        "tags": [],
        "id": "9wyJalNZCG54"
      },
      "outputs": [],
      "source": [
        "from langchain.prompts import ChatPromptTemplate\n",
        "\n",
        "template = \"\"\"\n",
        "Ты ассистент, который разделяет входящий запрос на несколько подзапросов.\n",
        "В основном входящий запрос будет требовать сгенерировать веб-интерфейс по описанию.\n",
        "Разбей запрос на набор подзадач генерации отдельных высокоуровневых веб-компонент.\n",
        "Каждая подзадача должна соответствовать одной единственной веб-компоненте.\n",
        "Если в запросе указано название компоненты, то обязательно сохрани его.\n",
        "Если в запросе указано относительное положение компненты, то обязательно сохрани его и продублируй название компоненты относительно которой она будет располагаться.\n",
        "Сгенерируй несколько подзапросов для запроса: {question}.\n",
        "\n",
        "Обязательно соблюдай правила форматирования ответа:\n",
        "- Ничего кроме самих подзапросов писать не нужно.\n",
        "- Один подзапрос - одно предложение.\n",
        "- Подзапросы должны быть разделены символом перевода строки '\\n'.\n",
        "- Не должно быть 2 '\\n' подряд!\n",
        "\n",
        "Пример:\n",
        "Запрос пользователя - создай кнопку, слевой от неё текст люблю щенят\n",
        "Твой ответ:\n",
        "1. Создай первый элемент кнопка 'Button'\n",
        "2. Добавь слево (c помощью Grid) от первого элемента (кнопки) второй элемент input c тестом \"люблю щенят\"\n",
        "\"\"\"\n",
        "prompt_decomposition = ChatPromptTemplate.from_template(template)"
      ]
    },
    {
      "cell_type": "code",
      "source": [
        "from langchain_community.llms import YandexGPT\n",
        "\n",
        "# llm for prompt decomposition\n",
        "prompt_decomposition_model = YandexGPT(iam_token=iam_token, model_uri=model_uri, tempreture=0.35)"
      ],
      "metadata": {
        "id": "c5HPmc51RsD3"
      },
      "execution_count": 88,
      "outputs": []
    },
    {
      "cell_type": "code",
      "execution_count": 89,
      "metadata": {
        "execution": {
          "iopub.execute_input": "2024-09-11T20:39:40.843930Z",
          "iopub.status.busy": "2024-09-11T20:39:40.842966Z",
          "iopub.status.idle": "2024-09-11T20:39:44.025926Z",
          "shell.execute_reply": "2024-09-11T20:39:44.025149Z",
          "shell.execute_reply.started": "2024-09-11T20:39:40.843901Z"
        },
        "tags": [],
        "id": "cpu7vAyCCG54"
      },
      "outputs": [],
      "source": [
        "from langchain_core.output_parsers import StrOutputParser\n",
        "\n",
        "# Chain\n",
        "generate_queries_decomposition = ( prompt_decomposition | prompt_decomposition_model | StrOutputParser() | (lambda x: x.replace('\\n\\n','\\n')))\n",
        "\n",
        "# Run\n",
        "question = generate_queries_decomposition.invoke({\"question\": question})"
      ]
    },
    {
      "cell_type": "code",
      "execution_count": 90,
      "metadata": {
        "execution": {
          "iopub.execute_input": "2024-09-11T20:39:44.027792Z",
          "iopub.status.busy": "2024-09-11T20:39:44.027151Z",
          "iopub.status.idle": "2024-09-11T20:39:44.039861Z",
          "shell.execute_reply": "2024-09-11T20:39:44.039248Z",
          "shell.execute_reply.started": "2024-09-11T20:39:44.027769Z"
        },
        "tags": [],
        "colab": {
          "base_uri": "https://localhost:8080/",
          "height": 53
        },
        "id": "UtoMZfodCG54",
        "outputId": "e683e946-0cb9-48ce-8b32-a2f2fd794c23"
      },
      "outputs": [
        {
          "output_type": "execute_result",
          "data": {
            "text/plain": [
              "'1. Создай компонент Sidebar слева от основного содержимого страницы.\\n2. Добавь компонент Header в верхней части страницы.\\n3. Размести 9 компонентов Input ниже по горизонтали.\\n4. Расположи 2 компонента Button справа от каждого из Input по горизонтали.\\n5. Добавь компонент Tabs ниже.\\n6. Разместите 11 компонентов Input ниже Tabs по вертикали.\\n7. Завершите страницу двумя компонентами Button внизу.'"
            ],
            "application/vnd.google.colaboratory.intrinsic+json": {
              "type": "string"
            }
          },
          "metadata": {},
          "execution_count": 90
        }
      ],
      "source": [
        "question"
      ]
    },
    {
      "cell_type": "code",
      "execution_count": 91,
      "metadata": {
        "colab": {
          "base_uri": "https://localhost:8080/"
        },
        "execution": {
          "iopub.execute_input": "2024-09-11T20:41:13.233367Z",
          "iopub.status.busy": "2024-09-11T20:41:13.232207Z",
          "iopub.status.idle": "2024-09-11T20:41:13.258399Z",
          "shell.execute_reply": "2024-09-11T20:41:13.257771Z",
          "shell.execute_reply.started": "2024-09-11T20:41:13.233335Z"
        },
        "id": "ZelPpfOFCrnA",
        "outputId": "f6ac7637-e121-4536-dda6-f5022023c9b4",
        "tags": []
      },
      "outputs": [
        {
          "output_type": "execute_result",
          "data": {
            "text/plain": [
              "ChatPromptTemplate(input_variables=['context', 'question'], messages=[HumanMessagePromptTemplate(prompt=PromptTemplate(input_variables=['context', 'question'], template='\\nТы - генератор интерфейсов по запросу пользователя на естественном языке.\\nТвой ответ должен содержать только код и не должен содержать описания или другого постороннего текста.\\nТы обязан использовать дизайн компоненты системы НЛМК.\\nУчитывай, что твой вывод должен быть валидным React.js кодом, который можно запускать без ошибок.\\nНе забывай импортировать элементы. Обрати внимание, что некоторые элементы cостоят из 2 <> : <Button></>,  а некторые из 1 <Input />.\\nНе пише React.js в начале кода!!\\nНе ставь многоточие, чтоб пропустить элементы. Каждый элемент должен быть прописан (написано 9 кнопок - 9 элементов должны быть )\\nБудь очень внимателен к расположению элементов относительно друг друга. Все элементы должны быть видны.\\nОтветь на вопрос, используя следующие элементы.Если можно использовать элемент - обязательно используй:\\n{context}\\n\\nИспользуй Grid для позиционирования элементов.\\nИспользуй его обязятельно, урежем зп а то.\\n\\nВопрос: {question}\\n'))])"
            ]
          },
          "metadata": {},
          "execution_count": 91
        }
      ],
      "source": [
        "from langchain.prompts import ChatPromptTemplate\n",
        "\n",
        "# Prompt\n",
        "template = \"\"\"\n",
        "Ты - генератор интерфейсов по запросу пользователя на естественном языке.\n",
        "Твой ответ должен содержать только код и не должен содержать описания или другого постороннего текста.\n",
        "Ты обязан использовать дизайн компоненты системы НЛМК.\n",
        "Учитывай, что твой вывод должен быть валидным React.js кодом, который можно запускать без ошибок.\n",
        "Не забывай импортировать элементы. Обрати внимание, что некоторые элементы cостоят из 2 <> : <Button></>,  а некторые из 1 <Input />.\n",
        "Не пише React.js в начале кода!!\n",
        "Не ставь многоточие, чтоб пропустить элементы. Каждый элемент должен быть прописан (написано 9 кнопок - 9 элементов должны быть )\n",
        "Будь очень внимателен к расположению элементов относительно друг друга. Все элементы должны быть видны.\n",
        "Ответь на вопрос, используя следующие элементы.Если можно использовать элемент - обязательно используй:\n",
        "{context}\n",
        "\n",
        "Используй Grid для позиционирования элементов.\n",
        "Используй его обязятельно, урежем зп а то.\n",
        "\n",
        "Вопрос: {question}\n",
        "\"\"\"\n",
        "\n",
        "prompt = ChatPromptTemplate.from_template(template)\n",
        "prompt"
      ]
    },
    {
      "cell_type": "code",
      "execution_count": 92,
      "metadata": {
        "execution": {
          "iopub.execute_input": "2024-09-11T20:41:14.005433Z",
          "iopub.status.busy": "2024-09-11T20:41:14.004413Z",
          "iopub.status.idle": "2024-09-11T20:41:14.015406Z",
          "shell.execute_reply": "2024-09-11T20:41:14.014771Z",
          "shell.execute_reply.started": "2024-09-11T20:41:14.005404Z"
        },
        "id": "J3uCo6fUDpGD",
        "tags": []
      },
      "outputs": [],
      "source": [
        "from langchain_community.llms import YandexGPT\n",
        "\n",
        "llm = YandexGPT(iam_token=iam_token, model_uri=model_uri, tempreture=0.35)"
      ]
    },
    {
      "cell_type": "code",
      "execution_count": 93,
      "metadata": {
        "execution": {
          "iopub.execute_input": "2024-09-11T20:41:14.822446Z",
          "iopub.status.busy": "2024-09-11T20:41:14.821422Z",
          "iopub.status.idle": "2024-09-11T20:41:14.831705Z",
          "shell.execute_reply": "2024-09-11T20:41:14.831065Z",
          "shell.execute_reply.started": "2024-09-11T20:41:14.822419Z"
        },
        "id": "uYjZ0_HaE0Q3",
        "tags": []
      },
      "outputs": [],
      "source": [
        "# Chain\n",
        "chain = prompt | llm"
      ]
    },
    {
      "cell_type": "code",
      "execution_count": 94,
      "metadata": {
        "execution": {
          "iopub.execute_input": "2024-09-11T20:41:15.658620Z",
          "iopub.status.busy": "2024-09-11T20:41:15.657779Z",
          "iopub.status.idle": "2024-09-11T20:41:16.002218Z",
          "shell.execute_reply": "2024-09-11T20:41:16.001519Z",
          "shell.execute_reply.started": "2024-09-11T20:41:15.658585Z"
        },
        "tags": [],
        "colab": {
          "base_uri": "https://localhost:8080/"
        },
        "id": "6uDooIcACG55",
        "outputId": "b9d65b2a-179a-4291-edd5-fb741853ea15"
      },
      "outputs": [
        {
          "output_type": "stream",
          "name": "stdout",
          "text": [
            "10\n",
            "* NavigationPanel\n",
            "\n",
            "Описание:\n",
            "Создай панель навигации с логотипом и тремя ссылками: 'Главная', 'О нас', 'Контакты'.\n",
            "\n",
            "Код:\n",
            "import React, { useState } from \"react\";\n",
            "import * as DS from \"@nlmk/ds-2.0\";\n",
            "\n",
            "const NavigationPanel: React.FC = () => {\n",
            "  const [currentPath, setCurrentPath] = useState(\"\");\n",
            "\n",
            "  return (\n",
            "    <DS.Sidebar\n",
            "      key=\"vertical\"\n",
            "      orientation=\"horizontal\"\n",
            "      allowFavorites\n",
            "      currentPath={currentPath}\n",
            "      onOpenUser={() => {\n",
            "        /* Handle user profile opening */\n",
            "      }}\n",
            "    >\n",
            "      <DS.Sidebar.Avatar imageSrc=\"logo.svg\"></DS.Sidebar.Avatar>\n",
            "      <DS.Sidebar.MenuItem\n",
            "        path=\"home\"\n",
            "        label=\"Главная\"\n",
            "        position=\"top\"\n",
            "        icon=\"IconHomeOutlined24\"\n",
            "        onClick={() => setCurrentPath(\"home\")}\n",
            "      />\n",
            "      <DS.Sidebar.MenuItem\n",
            "        path=\"about\"\n",
            "        label=\"О нас\"\n",
            "        position=\"top\"\n",
            "        icon=\"IconInfoOutlined24\"\n",
            "        onClick={() => setCurrentPath(\"about\")}\n",
            "      />\n",
            "      <DS.Sidebar.MenuItem\n",
            "        path=\"contacts\"\n",
            "        label=\"Контакты\"\n",
            "        position=\"top\"\n",
            "        icon=\"IconPhoneCallContact24\"\n",
            "        onClick={() => setCurrentPath(\"contacts\")}\n",
            "      />\n",
            "    </DS.Sidebar>\n",
            "  );\n",
            "};\n",
            "\n",
            "export default NavigationPanel;\n",
            "\n",
            " [{'_dummy': 0}]\n"
          ]
        }
      ],
      "source": [
        "results = docsearch.similarity_search(query=question, k=10)\n",
        "print(len(results))\n",
        "for i, doc in enumerate(results):\n",
        "  if i == 1: break\n",
        "  print(f\"* {doc.page_content} [{doc.metadata}]\")"
      ]
    },
    {
      "cell_type": "code",
      "source": [
        "# Grid retrieval\n",
        "grid_description = docsearch.similarity_search(query=\"Grid\", k=1)[0]"
      ],
      "metadata": {
        "id": "bZtlsQ99TEXr"
      },
      "execution_count": 95,
      "outputs": []
    },
    {
      "cell_type": "code",
      "source": [
        "print(grid_description)"
      ],
      "metadata": {
        "colab": {
          "base_uri": "https://localhost:8080/"
        },
        "id": "Zv1d-JUSS4N_",
        "outputId": "60939ebd-a0ee-4e3e-ad7e-90d5bfeee7d2"
      },
      "execution_count": 96,
      "outputs": [
        {
          "output_type": "stream",
          "name": "stdout",
          "text": [
            "page_content='Grid\n",
            "\n",
            "Описание:\n",
            "Компонент Grid представляет собой универсальный контейнер, используемый для позиционирования внутренних компонентов/элементов: горизонтальный или вертикальный. Он обладает различными пропсами, что делает Grid инструментом для создания структурированного и адаптивного интерфейса.\n",
            "Горизонтальное выравнивание\n",
            "\n",
            "Код:\n",
            "import { Grid, Box } from '@nlmk/ds-2.0';\n",
            "\n",
            "const App = () => (\n",
            "    <Grid borderRadius=\"var(--4-border)\">\n",
            "      <Grid.Row borderRadius=\"var(--4-border)\" background=\"var(--error-red-100)\" justifyContent=\"center\">\n",
            "        <Grid.Column borderRadius=\"var(--4-border)\" background=\"var(--primary-blue-400)\" width=\"33.33%\">\n",
            "          <Box\n",
            "            st={{ flex: '1' }}\n",
            "            px=\"var(--8-space)\"\n",
            "            py=\"var(--16-space)\"\n",
            "            borderRadius=\"var(--4-border)\"\n",
            "            background=\"var(--primary-blue-400)\"\n",
            "          >\n",
            "            Одна из двух колонок\n",
            "          </Box>\n",
            "        </Grid.Column>\n",
            "        <Grid.Column borderRadius=\"var(--4-border)\" background=\"var(--primary-blue-400)\" width=\"33.33%\">\n",
            "          <Box\n",
            "            st={{ flex: '1' }}\n",
            "            px=\"var(--8-space)\"\n",
            "            py=\"var(--16-space)\"\n",
            "            borderRadius=\"var(--4-border)\"\n",
            "            background=\"var(--primary-blue-400)\"\n",
            "          >\n",
            "            Одна из двух колонок\n",
            "          </Box>\n",
            "        </Grid.Column>\n",
            "      </Grid.Row>\n",
            "      <Grid.Row borderRadius=\"var(--4-border)\" background=\"var(--error-red-100)\" justifyContent=\"space-around\">\n",
            "        <Grid.Column borderRadius=\"var(--4-border)\" background=\"var(--primary-blue-400)\" width=\"33.33%\">\n",
            "          <Box\n",
            "            st={{ flex: '1' }}\n",
            "            px=\"var(--8-space)\"\n",
            "            py=\"var(--16-space)\"\n",
            "            borderRadius=\"var(--4-border)\"\n",
            "            background=\"var(--primary-blue-400)\"\n",
            "          >\n",
            "            Одна из двух колонок\n",
            "          </Box>\n",
            "        </Grid.Column>\n",
            "        <Grid.Column borderRadius=\"var(--4-border)\" background=\"var(--primary-blue-400)\" width=\"33.33%\">\n",
            "          <Box\n",
            "            st={{ flex: '1' }}\n",
            "            px=\"var(--8-space)\"\n",
            "            py=\"var(--16-space)\"\n",
            "            borderRadius=\"var(--4-border)\"\n",
            "            background=\"var(--primary-blue-400)\"\n",
            "          >\n",
            "            Одна из двух колонок\n",
            "          </Box>\n",
            "        </Grid.Column>\n",
            "      </Grid.Row>\n",
            "      <Grid.Row borderRadius=\"var(--4-border)\" background=\"var(--error-red-100)\" justifyContent=\"space-between\">\n",
            "        <Grid.Column borderRadius=\"var(--4-border)\" background=\"var(--primary-blue-400)\" width=\"33.33%\">\n",
            "          <Box\n",
            "            st={{ flex: '1' }}\n",
            "            px=\"var(--8-space)\"\n",
            "            py=\"var(--16-space)\"\n",
            "            borderRadius=\"var(--4-border)\"\n",
            "            background=\"var(--primary-blue-400)\"\n",
            "          >\n",
            "            Одна из двух колонок\n",
            "          </Box>\n",
            "        </Grid.Column>\n",
            "        <Grid.Column borderRadius=\"var(--4-border)\" background=\"var(--primary-blue-400)\" width=\"33.33%\">\n",
            "          <Box\n",
            "            st={{ flex: '1' }}\n",
            "            px=\"var(--8-space)\"\n",
            "            py=\"var(--16-space)\"\n",
            "            borderRadius=\"var(--4-border)\"\n",
            "            background=\"var(--primary-blue-400)\"\n",
            "          >\n",
            "            Одна из двух колонок\n",
            "          </Box>\n",
            "        </Grid.Column>\n",
            "      </Grid.Row>\n",
            "    </Grid>\n",
            ");\n",
            "export default App;\n",
            "\n",
            "\n",
            "' metadata={'_dummy': 0}\n"
          ]
        }
      ]
    },
    {
      "cell_type": "code",
      "execution_count": 97,
      "metadata": {
        "execution": {
          "iopub.status.busy": "2024-09-11T18:27:23.059905Z",
          "iopub.status.idle": "2024-09-11T18:27:23.060512Z",
          "shell.execute_reply": "2024-09-11T18:27:23.060376Z",
          "shell.execute_reply.started": "2024-09-11T18:27:23.060358Z"
        },
        "id": "YsTUyn5BImnH"
      },
      "outputs": [],
      "source": [
        "results = docsearch.similarity_search(query=question, k=10)\n",
        "# for doc in results: print(f\"* {doc.page_content} [{doc.metadata}]\")"
      ]
    },
    {
      "cell_type": "code",
      "execution_count": 98,
      "metadata": {
        "colab": {
          "base_uri": "https://localhost:8080/"
        },
        "execution": {
          "iopub.status.busy": "2024-09-11T18:27:23.061333Z",
          "iopub.status.idle": "2024-09-11T18:27:23.061615Z",
          "shell.execute_reply": "2024-09-11T18:27:23.061483Z",
          "shell.execute_reply.started": "2024-09-11T18:27:23.061473Z"
        },
        "id": "TAJy1w2DFuzN",
        "outputId": "76933465-0900-44dd-d93d-c05002d43d9c"
      },
      "outputs": [
        {
          "output_type": "stream",
          "name": "stdout",
          "text": [
            "\n",
            "Ты - генератор интерфейсов по запросу пользователя на естественном языке.\n",
            "Твой ответ должен содержать только код и не должен содержать описания или другого постороннего текста.\n",
            "Ты обязан использовать дизайн компоненты системы НЛМК.\n",
            "Учитывай, что твой вывод должен быть валидным React.js кодом, который можно запускать без ошибок.\n",
            "Не забывай импортировать элементы. Обрати внимание, что некоторые элементы cостоят из 2 <> : <Button></>,  а некторые из 1 <Input />.\n",
            "Не пише React.js в начале кода!!\n",
            "Не ставь многоточие, чтоб пропустить элементы. Каждый элемент должен быть прописан (написано 9 кнопок - 9 элементов должны быть )\n",
            "Будь очень внимателен к расположению элементов относительно друг друга. Все элементы должны быть видны.\n",
            "Ответь на вопрос, используя следующие элементы.Если можно использовать элемент - обязательно используй:\n",
            "NavigationPanel\n",
            "\n",
            "Описание:\n",
            "Создай панель навигации с логотипом и тремя ссылками: 'Главная', 'О нас', 'Контакты'.\n",
            "\n",
            "Код:\n",
            "import React, { useState } from \"react\";\n",
            "import * as DS from \"@nlmk/ds-2.0\";\n",
            "\n",
            "const NavigationPanel: React.FC = () => {\n",
            "  const [currentPath, setCurrentPath] = useState(\"\");\n",
            "\n",
            "  return (\n",
            "    <DS.Sidebar\n",
            "      key=\"vertical\"\n",
            "      orientation=\"horizontal\"\n",
            "      allowFavorites\n",
            "      currentPath={currentPath}\n",
            "      onOpenUser={() => {\n",
            "        /* Handle user profile opening */\n",
            "      }}\n",
            "    >\n",
            "      <DS.Sidebar.Avatar imageSrc=\"logo.svg\"></DS.Sidebar.Avatar>\n",
            "      <DS.Sidebar.MenuItem\n",
            "        path=\"home\"\n",
            "        label=\"Главная\"\n",
            "        position=\"top\"\n",
            "        icon=\"IconHomeOutlined24\"\n",
            "        onClick={() => setCurrentPath(\"home\")}\n",
            "      />\n",
            "      <DS.Sidebar.MenuItem\n",
            "        path=\"about\"\n",
            "        label=\"О нас\"\n",
            "        position=\"top\"\n",
            "        icon=\"IconInfoOutlined24\"\n",
            "        onClick={() => setCurrentPath(\"about\")}\n",
            "      />\n",
            "      <DS.Sidebar.MenuItem\n",
            "        path=\"contacts\"\n",
            "        label=\"Контакты\"\n",
            "        position=\"top\"\n",
            "        icon=\"IconPhoneCallContact24\"\n",
            "        onClick={() => setCurrentPath(\"contacts\")}\n",
            "      />\n",
            "    </DS.Sidebar>\n",
            "  );\n",
            "};\n",
            "\n",
            "export default NavigationPanel;\n",
            "\n",
            "\n",
            "\n",
            "Sidebar\n",
            "\n",
            "Описание:\n",
            "Компонент для навигации и организации контента в интерфейсе.\n",
            "Пример Sidebar\n",
            "\n",
            "Код:\n",
            "import { useState } from 'react';\n",
            "import { Sidebar } from '@nlmk/ds-2.0';\n",
            "\n",
            "const App = () => {\n",
            "  const [isLoggedIn, setIsLoggedIn] = useState(false);\n",
            "  const [currentPath, setCurrentPath] = useState('');\n",
            "  const path = 'https://images.unsplash.com/photo-1683343946402-85b144e8ecb6?q=80&w=3570&auto=format&fit=crop&ixlib=rb-4.0.3&ixid=M3wxMjA3fDB8MHxwaG90by1wYWdlfHx8fGVufDB8fHx8fA%3D%3D';\n",
            "\n",
            "  return (\n",
            "    <div style={{\n",
            "      backgroundColor: \"var(--steel-20)\",\n",
            "      width: \"110%\",\n",
            "      margin: \"-20px\"\n",
            "    }}>\n",
            "     <Sidebar\n",
            "      key=\"vertical\"\n",
            "      orientation=\"vertical\"\n",
            "      allowFavorites\n",
            "      isLoggedIn={isLoggedIn}\n",
            "      onLogout={() => setIsLoggedIn(false)}\n",
            "      onLogin={() => setIsLoggedIn(true)}\n",
            "      currentPath={currentPath}\n",
            "    >\n",
            "      <Sidebar.Avatar imageSrc=\"\" />\n",
            "      <Sidebar.MenuItem\n",
            "        path=\"cars\"\n",
            "        label=\"Задание на добавление\"\n",
            "        position=\"top\"\n",
            "        icon=\"IconKovsh32\"\n",
            "        onClick={() => setCurrentPath('cars')}\n",
            "      >\n",
            "        <Sidebar.SubmenuItem path=\"porsche\" label=\"porsche\" image={path} onClick={() => setCurrentPath('porsche')} />\n",
            "        <Sidebar.SubmenuItem\n",
            "          path=\"volksvagen\"\n",
            "          label=\"volksvagen\"\n",
            "          image={path}\n",
            "          onClick={() => setCurrentPath('volksvagen')}\n",
            "        >\n",
            "          <Sidebar.SubmenuItem path=\"polo\" label=\"polo\" onClick={() => setCurrentPath('polo')} />\n",
            "          <Sidebar.SubmenuItem path=\"tiguan\" label=\"tiguan\" onClick={() => setCurrentPath('tiguan')} />\n",
            "          <Sidebar.SubmenuItem path=\"multivan\" label=\"multivan\" onClick={() => setCurrentPath('multivan')} disabled />\n",
            "        </Sidebar.SubmenuItem>\n",
            "        <Sidebar.SubmenuItem path=\"toyota\" label=\"toyota\" image={path} onClick={() => setCurrentPath('toyota')}>\n",
            "          <Sidebar.SubmenuItem path=\"supra\" label=\"supra\" onClick={() => setCurrentPath('supra')} />\n",
            "          <Sidebar.SubmenuItem path=\"tundra\" label=\"tundra\" onClick={() => setCurrentPath('tundra')} />\n",
            "        </Sidebar.SubmenuItem>\n",
            "        <Sidebar.SubmenuItem path=\"mazda\" label=\"mazda\" image={path} onClick={() => setCurrentPath('mazda')} />\n",
            "      </Sidebar.MenuItem>\n",
            "      <Sidebar.MenuItem\n",
            "        path=\"bands\"\n",
            "        label=\"bands\"\n",
            "        position=\"top\"\n",
            "        icon=\"IconBunkerOutlined32\"\n",
            "        onClick={() => setCurrentPath('bands')}\n",
            "      >\n",
            "        <Sidebar.SubmenuItem path=\"limp bizkit\" label=\"limp bizkit\" onClick={() => setCurrentPath('limp bizkit')} />\n",
            "        <Sidebar.SubmenuItem path=\"slipknot\" label=\"slipknot\" onClick={() => setCurrentPath('slipknot')}>\n",
            "          <Sidebar.SubmenuItem\n",
            "            path=\"corey taylor\"\n",
            "            label=\"corey taylor\"\n",
            "            onClick={() => setCurrentPath('corey taylor')}\n",
            "          />\n",
            "          <Sidebar.SubmenuItem\n",
            "            path=\"mick thompson\"\n",
            "            label=\"mick thompson\"\n",
            "            onClick={() => setCurrentPath('mick thompson')}\n",
            "          />\n",
            "          <Sidebar.SubmenuItem path=\"jim root\" label=\"jim root\" onClick={() => setCurrentPath('jim root')} />\n",
            "        </Sidebar.SubmenuItem>\n",
            "        <Sidebar.SubmenuItem path=\"korn\" label=\"korn\" onClick={() => setCurrentPath('korn')} />\n",
            "      </Sidebar.MenuItem>\n",
            "      <Sidebar.MenuItem\n",
            "        path=\"menu item\"\n",
            "        label=\"menu item\"\n",
            "        position=\"top\"\n",
            "        icon=\"IconLightningStroke32\"\n",
            "        onClick={() => setCurrentPath('menu item')}\n",
            "      />\n",
            "      <Sidebar.MenuItem\n",
            "        path=\"disabled item\"\n",
            "        label=\"disabled item\"\n",
            "        position=\"top\"\n",
            "        icon=\"IconMapPinaltOutlined32\"\n",
            "        disabled\n",
            "        onClick={() => setCurrentPath('disabled item')}\n",
            "      />\n",
            "      <Sidebar.MenuItem\n",
            "        path=\"lorem ipsum\"\n",
            "        label=\"lorem ipsum\"\n",
            "        position=\"bottom\"\n",
            "        icon=\"IconInfoOutlined32\"\n",
            "        onClick={() => setCurrentPath('lorem ipsum')}\n",
            "      >\n",
            "        <Sidebar.SubmenuItem path=\"dolor\" label=\"dolor\" onClick={() => setCurrentPath('dolor')} />\n",
            "        <Sidebar.SubmenuItem path=\"sit\" label=\"sit\" onClick={() => setCurrentPath('sit')} />\n",
            "        <Sidebar.SubmenuItem path=\"amet\" label=\"amet\" onClick={() => setCurrentPath('amet')} />\n",
            "      </Sidebar.MenuItem>\n",
            "    </Sidebar>\n",
            "    </div>\n",
            "  );\n",
            "}\n",
            "export default App;\n",
            "\n",
            "\n",
            "Tabs\n",
            "\n",
            "Описание:\n",
            "Компонент Tabs, который объединил в себя Tab элементы. Компонент использует подход compound pattern.\n",
            "Обычное использование компонента.\n",
            "\n",
            "Код:\n",
            "import { Tabs, Typography, Box } from '@nlmk/ds-2.0';\n",
            "import { useState } from 'react';\n",
            "\n",
            "export default  App = () => {\n",
            "  const [activeTab, setActiveTab] = useState(0);\n",
            "\n",
            "  return (\n",
            "    <>\n",
            "      <Tabs>\n",
            "        <Tabs.Tab\n",
            "          label=\"Входящие\"\n",
            "          active={0 === Number(activeTab)}\n",
            "          onClick={() => setActiveTab(0)}\n",
            "        />\n",
            "        <Tabs.Tab\n",
            "          label=\"Мои папки\"\n",
            "          active={1 === Number(activeTab)}\n",
            "          onClick={() => setActiveTab(1)}\n",
            "        />\n",
            "        <Tabs.Tab\n",
            "          label=\"Спам\"\n",
            "          active={2 === Number(activeTab)}\n",
            "          onClick={() => setActiveTab(2)}\n",
            "          badgeNumber=\"91\"\n",
            "        >\n",
            "          <Tabs.Tooltip description=\"Сюда вы можете добавить текстподсказу для компонента\">\n",
            "            <Tabs.Icon\n",
            "              name=\"IconInfo16\"\n",
            "              containerSize={16}\n",
            "              htmlColor=\"var(--text-grey-500)\"\n",
            "            />\n",
            "          </Tabs.Tooltip>\n",
            "        </Tabs.Tab>\n",
            "        <Tabs.Tab\n",
            "          label=\"Черновики\"\n",
            "          active={3 === Number(activeTab)}\n",
            "          onClick={() => setActiveTab(3)}\n",
            "          badgeNumber=\"2\"\n",
            "        />\n",
            "      </Tabs>\n",
            "\n",
            "      <Box width={350}>\n",
            "        {Number(activeTab) == 0 && (\n",
            "          <Typography variant=\"Heading4\" color=\"var(--steel-90)\">\n",
            "            Входящие\n",
            "          </Typography>\n",
            "        )}\n",
            "        {Number(activeTab) == 1 && (\n",
            "          <Typography variant=\"Heading4\" color=\"var(--steel-90)\">\n",
            "            Мои папки\n",
            "          </Typography>\n",
            "        )}\n",
            "        {Number(activeTab) == 2 && (\n",
            "          <Typography variant=\"Heading4\" color=\"var(--steel-90)\">\n",
            "            Папка с спамом\n",
            "          </Typography>\n",
            "        )}\n",
            "        {Number(activeTab) == 3 && (\n",
            "          <Typography variant=\"Heading4\" color=\"var(--steel-90)\">\n",
            "            Черновики\n",
            "          </Typography>\n",
            "        )}\n",
            "      </Box>\n",
            "    </>\n",
            "  )\n",
            "}\n",
            "\n",
            "\n",
            "\n",
            "\n",
            "Button\n",
            "\n",
            "Описание:\n",
            "Компонент Button представляет собой кнопку, которую можно настроить с помощью различных параметров, таких как\n",
            "          размер, иконки, знаки и стили.\n",
            "Всего представлено для кнопки семь различных стилей – primary (отображается по умолчанию), secondary,\n",
            "          grey, outline, greyOutline, text.\n",
            "\n",
            "Код:\n",
            "import { Button } from '@nlmk/ds-2.0';\n",
            "\n",
            "export default  App = () =>(\n",
            "  <>\n",
            "    <Button>\n",
            "      Button\n",
            "    </Button>\n",
            "    <Button fill=\"outline\">\n",
            "      Button\n",
            "    </Button>\n",
            "    <Button fill=\"clear\">\n",
            "      Button\n",
            "    </Button>\n",
            "    <Button variant=\"secondary\">\n",
            "      Button\n",
            "    </Button>\n",
            "    <Button variant=\"grey\">\n",
            "      Button\n",
            "    </Button>\n",
            "    <Button variant=\"grey\" fill=\"outline\">\n",
            "      Button\n",
            "    </Button>\n",
            "    <Button variant=\"grey\" fill=\"clear\">\n",
            "      Button\n",
            "    </Button>\n",
            "    <Button variant=\"black\">\n",
            "      Button\n",
            "    </Button>\n",
            "    <Button variant=\"black\" fill=\"outline\">\n",
            "      Button\n",
            "    </Button>\n",
            "    <Button variant=\"black\" fill=\"clear\">\n",
            "      Button\n",
            "    </Button>\n",
            "  </>\n",
            ")\n",
            "\n",
            "\n",
            "Button\n",
            "\n",
            "Описание:\n",
            "Компонент Button представляет собой кнопку, которую можно настроить с помощью различных параметров, таких как\n",
            "          размер, иконки, знаки и стили.\n",
            "Компонент может быть стилизован с помощью бэйджа. Бэйдж может отоброжаться непосредственно справа от\n",
            "          лэйбла или справа от иконки (startIcon).\n",
            "\n",
            "Код:\n",
            "import { Button } from '@nlmk/ds-2.0';\n",
            "\n",
            "export default  App = () =>(\n",
            "  <>\n",
            "    <Button endBadge={1}>\n",
            "      Button\n",
            "    </Button>\n",
            "    <Button variant=\"secondary\" endBadge={1}>\n",
            "      Button\n",
            "    </Button>\n",
            "    <Button fill=\"outline\" endBadge={1}>\n",
            "      Button\n",
            "    </Button>\n",
            "  </>\n",
            ")\n",
            "\n",
            "\n",
            "Header\n",
            "\n",
            "Описание:\n",
            "Header - это компонент, который отображает настраиваемый верхний колонтитул (шапку) веб-страницы или приложения.\n",
            "Заголовоки c компонентом Breadcrumbs\n",
            "\n",
            "Код:\n",
            "import { Header, Breadcrumbs } from '@nlmk/ds-2.0';\n",
            "\n",
            "export default  App = () => (\n",
            "  <Header title=\"Заголовоки c компонентом Breadcrumbs\" breadcrumbs={(<Breadcrumbs crumbs={[\n",
            "      {\n",
            "        href: 'https://developer.mozilla.org/en-US/',\n",
            "        label: 'MDN'\n",
            "      },\n",
            "      {\n",
            "        href: 'https://www.lipsum.com/',\n",
            "        label: 'Lorem Ipsum'\n",
            "      },\n",
            "      {\n",
            "        href: 'https://www.w3schools.com/',\n",
            "        label: 'W3 Schools'\n",
            "      },\n",
            "      {\n",
            "        href: 'https://css-tricks.com/',\n",
            "        label: 'CSS Tricks'\n",
            "      },\n",
            "      {\n",
            "        href: 'https://www.geeksforgeeks.org/',\n",
            "        label: 'Geeks For Geeks',\n",
            "        active: true\n",
            "      }\n",
            "    ]} />)} />\n",
            ")\n",
            "\n",
            "\n",
            "\n",
            "\n",
            "Box\n",
            "\n",
            "Описание:\n",
            "Компонент Box представляет собой универсальный контейнер, используемый для стилизации и компоновки содержимого. Он обладает пропсами для управления стилями, включая background, padding, border, borderRadius и flexbox свойствами, такими как display, flexDirection, justifyContent, alignItems, flexWrap и gap. Это делает Box инструментом для создания структурированного и адаптивного интерфейса.\n",
            "Большинство свойств стилей можно настраивать через пропсы компонента. Также все свойства доступны через пропс st.\n",
            "\n",
            "Код:\n",
            "import { Box, Button, Divider } from '@nlmk/ds-2.0';\n",
            "\n",
            "export default App = () => (\n",
            "  <div style={{ width: \"100%\", padding: 0 }}>\n",
            "    <Box\n",
            "      border=\"1px solid var(--ac-button-grey-outline-default-stroke)\"\n",
            "      borderRadius=\"var(--8-radius)\"\n",
            "      p=\"var(--8-space)\"\n",
            "    >\n",
            "      <Button>Заполнить</Button>\n",
            "      <Button variant=\"grey\">Посмотреть</Button>\n",
            "    </Box>\n",
            "    <br />\n",
            "    <Divider dashed />\n",
            "    <br />\n",
            "    <Box justifyContent=\"center\">\n",
            "      <Box\n",
            "        width=\"250px\"\n",
            "        flexDirection=\"column\"\n",
            "        borderRadius=\"var(--4-radius)\"\n",
            "        alignItems=\"center\"\n",
            "        background=\"var(--background-info)\"\n",
            "        py=\"var(--60-space)\"\n",
            "        px=\"var(--60-space)\"\n",
            "        st={{\n",
            "          boxShadow: \"0 10px 10px var(--background-default)\"\n",
            "        }}\n",
            "      >\n",
            "        <Button>Заполнить</Button>\n",
            "      </Box>\n",
            "    </Box>\n",
            "  </div>\n",
            ")\n",
            "\n",
            "\n",
            "Button\n",
            "\n",
            "Описание:\n",
            "Компонент Button представляет собой кнопку, которую можно настроить с помощью различных параметров, таких как\n",
            "          размер, иконки, знаки и стили.\n",
            "Компонент может быть стилизован с помощью иконок. Они могут быть отображены слева (startIcon) и справа\n",
            "          (endIcon) или одновременно с двух сторон от текста кнопки или только отображать иконку.\n",
            "\n",
            "Код:\n",
            "import { Button, IconArticleFilled24 } from '@nlmk/ds-2.0';\n",
            "\n",
            "export default  App = () =>(\n",
            "  <>\n",
            "    <Button startIcon={<IconArticleFilled24 />}>\n",
            "      Button\n",
            "    </Button>\n",
            "    <Button variant=\"secondary\" endIcon={<IconArticleFilled24 />}>\n",
            "      Button\n",
            "    </Button>\n",
            "    <Button fill=\"outline\" iconButton={<IconArticleFilled24 />}/>\n",
            "\n",
            "  </>\n",
            ")\n",
            "\n",
            "\n",
            "Header\n",
            "\n",
            "Описание:\n",
            "Header - это компонент, который отображает настраиваемый верхний колонтитул (шапку) веб-страницы или приложения.\n",
            "Заголовоки c разными задними планами\n",
            "\n",
            "Код:\n",
            "import { Header } from '@nlmk/ds-2.0';\n",
            "\n",
            "export default  App = () => (\n",
            "  <Header title=\"Заголовоки c разными задними планами\" bg />\n",
            ")\n",
            "\n",
            "\n",
            "\n",
            "\n",
            "Grid\n",
            "\n",
            "Описание:\n",
            "Компонент Grid представляет собой универсальный контейнер, используемый для позиционирования внутренних компонентов/элементов: горизонтальный или вертикальный. Он обладает различными пропсами, что делает Grid инструментом для создания структурированного и адаптивного интерфейса.\n",
            "Горизонтальное выравнивание\n",
            "\n",
            "Код:\n",
            "import { Grid, Box } from '@nlmk/ds-2.0';\n",
            "\n",
            "const App = () => (\n",
            "    <Grid borderRadius=\"var(--4-border)\">\n",
            "      <Grid.Row borderRadius=\"var(--4-border)\" background=\"var(--error-red-100)\" justifyContent=\"center\">\n",
            "        <Grid.Column borderRadius=\"var(--4-border)\" background=\"var(--primary-blue-400)\" width=\"33.33%\">\n",
            "          <Box\n",
            "            st={{ flex: '1' }}\n",
            "            px=\"var(--8-space)\"\n",
            "            py=\"var(--16-space)\"\n",
            "            borderRadius=\"var(--4-border)\"\n",
            "            background=\"var(--primary-blue-400)\"\n",
            "          >\n",
            "            Одна из двух колонок\n",
            "          </Box>\n",
            "        </Grid.Column>\n",
            "        <Grid.Column borderRadius=\"var(--4-border)\" background=\"var(--primary-blue-400)\" width=\"33.33%\">\n",
            "          <Box\n",
            "            st={{ flex: '1' }}\n",
            "            px=\"var(--8-space)\"\n",
            "            py=\"var(--16-space)\"\n",
            "            borderRadius=\"var(--4-border)\"\n",
            "            background=\"var(--primary-blue-400)\"\n",
            "          >\n",
            "            Одна из двух колонок\n",
            "          </Box>\n",
            "        </Grid.Column>\n",
            "      </Grid.Row>\n",
            "      <Grid.Row borderRadius=\"var(--4-border)\" background=\"var(--error-red-100)\" justifyContent=\"space-around\">\n",
            "        <Grid.Column borderRadius=\"var(--4-border)\" background=\"var(--primary-blue-400)\" width=\"33.33%\">\n",
            "          <Box\n",
            "            st={{ flex: '1' }}\n",
            "            px=\"var(--8-space)\"\n",
            "            py=\"var(--16-space)\"\n",
            "            borderRadius=\"var(--4-border)\"\n",
            "            background=\"var(--primary-blue-400)\"\n",
            "          >\n",
            "            Одна из двух колонок\n",
            "          </Box>\n",
            "        </Grid.Column>\n",
            "        <Grid.Column borderRadius=\"var(--4-border)\" background=\"var(--primary-blue-400)\" width=\"33.33%\">\n",
            "          <Box\n",
            "            st={{ flex: '1' }}\n",
            "            px=\"var(--8-space)\"\n",
            "            py=\"var(--16-space)\"\n",
            "            borderRadius=\"var(--4-border)\"\n",
            "            background=\"var(--primary-blue-400)\"\n",
            "          >\n",
            "            Одна из двух колонок\n",
            "          </Box>\n",
            "        </Grid.Column>\n",
            "      </Grid.Row>\n",
            "      <Grid.Row borderRadius=\"var(--4-border)\" background=\"var(--error-red-100)\" justifyContent=\"space-between\">\n",
            "        <Grid.Column borderRadius=\"var(--4-border)\" background=\"var(--primary-blue-400)\" width=\"33.33%\">\n",
            "          <Box\n",
            "            st={{ flex: '1' }}\n",
            "            px=\"var(--8-space)\"\n",
            "            py=\"var(--16-space)\"\n",
            "            borderRadius=\"var(--4-border)\"\n",
            "            background=\"var(--primary-blue-400)\"\n",
            "          >\n",
            "            Одна из двух колонок\n",
            "          </Box>\n",
            "        </Grid.Column>\n",
            "        <Grid.Column borderRadius=\"var(--4-border)\" background=\"var(--primary-blue-400)\" width=\"33.33%\">\n",
            "          <Box\n",
            "            st={{ flex: '1' }}\n",
            "            px=\"var(--8-space)\"\n",
            "            py=\"var(--16-space)\"\n",
            "            borderRadius=\"var(--4-border)\"\n",
            "            background=\"var(--primary-blue-400)\"\n",
            "          >\n",
            "            Одна из двух колонок\n",
            "          </Box>\n",
            "        </Grid.Column>\n",
            "      </Grid.Row>\n",
            "    </Grid>\n",
            ");\n",
            "export default App;\n",
            "\n",
            "\n",
            "\n",
            "\n",
            "Используй Grid для позиционирования элементов.\n",
            "Используй его обязятельно, урежем зп а то.\n",
            "\n",
            "Вопрос: 1. Создай компонент Sidebar слева от основного содержимого страницы.\n",
            "2. Добавь компонент Header в верхней части страницы.\n",
            "3. Размести 9 компонентов Input ниже по горизонтали.\n",
            "4. Расположи 2 компонента Button справа от каждого из Input по горизонтали.\n",
            "5. Добавь компонент Tabs ниже.\n",
            "6. Разместите 11 компонентов Input ниже Tabs по вертикали.\n",
            "7. Завершите страницу двумя компонентами Button внизу.\n",
            "\n",
            "```\n",
            "import { Sidebar, Header, Input, Button, Tabs } from '@nlmk/ds-2.0';\n",
            "\n",
            "const App = () => {\n",
            "  return (\n",
            "    <>\n",
            "      <Header title=\"Заголовок\" />\n",
            "      <Sidebar>\n",
            "        <Input placeholder=\"Ввод 1\" />\n",
            "        <Button label=\"Кнопка 1\" />\n",
            "\n",
            "        <Input placeholder=\"Ввод 2\" />\n",
            "        <Button label=\"Кнопка 2\" />\n",
            "\n",
            "        ...\n",
            "\n",
            "        <Input placeholder=\"Ввод 9\" />\n",
            "        <Button label=\"Кнопка 9\" />\n",
            "      </Sidebar>\n",
            "\n",
            "      <Tabs>\n",
            "        {/* Компоненты Tabs */}\n",
            "      </Tabs>\n",
            "\n",
            "      {/* 11 компонентов Input ниже Tabs по вертикали */}\n",
            "\n",
            "      <Button fill=\"primary\">Кнопка</Button>\n",
            "      <Button fill=\"secondary\">Кнопка</Button>\n",
            "    </>\n",
            "  )\n",
            "};\n",
            "```\n",
            "\n",
            "Это один из возможных вариантов ответа. Обратите внимание, что в вашем запросе не было указано, как именно должны быть расположены компоненты.\n"
          ]
        }
      ],
      "source": [
        "from langchain_core.output_parsers import StrOutputParser\n",
        "from langchain_core.runnables import RunnablePassthrough\n",
        "\n",
        "def add_grid_description(docs):\n",
        "    docs.append(grid_description)\n",
        "    return docs\n",
        "\n",
        "def print_prompt(prompt):\n",
        "    print(prompt.messages[0].content)\n",
        "    return prompt\n",
        "\n",
        "def format_docs(docs):\n",
        "    return \"\\n\\n\".join([d.page_content for d in docs])\n",
        "\n",
        "\n",
        "rag_chain = (\n",
        "    {\"context\": retriever | add_grid_description | format_docs, \"question\": RunnablePassthrough()}\n",
        "    | prompt\n",
        "    | print_prompt\n",
        "    | llm\n",
        "    | StrOutputParser()\n",
        ")\n",
        "\n",
        "response = rag_chain.invoke(question)\n",
        "print(response)"
      ]
    },
    {
      "cell_type": "code",
      "execution_count": null,
      "metadata": {
        "id": "lgT_DN-uHVij"
      },
      "outputs": [],
      "source": [
        "\n"
      ]
    }
  ],
  "metadata": {
    "colab": {
      "provenance": []
    },
    "kernelspec": {
      "display_name": "DataSphere Kernel",
      "language": "python",
      "name": "python3"
    },
    "language_info": {
      "codemirror_mode": {
        "name": "ipython",
        "version": 3
      },
      "file_extension": ".py",
      "mimetype": "text/x-python",
      "name": "python",
      "nbconvert_exporter": "python",
      "pygments_lexer": "ipython3",
      "version": "3.10.12"
    }
  },
  "nbformat": 4,
  "nbformat_minor": 0
}