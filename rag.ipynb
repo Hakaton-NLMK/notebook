{
  "cells": [
    {
      "cell_type": "markdown",
      "metadata": {
        "id": "ow2kzqLXGHRA"
      },
      "source": [
        "# Connect to ClickHouse Database"
      ]
    },
    {
      "cell_type": "code",
      "execution_count": 146,
      "metadata": {
        "colab": {
          "base_uri": "https://localhost:8080/"
        },
        "id": "Kt5R0c78GJ-6",
        "outputId": "b688cbd1-ff85-4ccf-c573-de17bd8f28c8"
      },
      "outputs": [
        {
          "output_type": "stream",
          "name": "stdout",
          "text": [
            "--2024-09-12 11:21:43--  https://storage.yandexcloud.net/cloud-certs/CA.pem\n",
            "Resolving storage.yandexcloud.net (storage.yandexcloud.net)... 213.180.193.243, 2a02:6b8::1d9\n",
            "Connecting to storage.yandexcloud.net (storage.yandexcloud.net)|213.180.193.243|:443... connected.\n",
            "HTTP request sent, awaiting response... 200 OK\n",
            "Length: 3579 (3.5K) [application/x-x509-ca-cert]\n",
            "Saving to: ‘/home/jupyter/datasphere/project/.clickhouse/root.crt’\n",
            "\n",
            "/home/jupyter/datas 100%[===================>]   3.50K  --.-KB/s    in 0s      \n",
            "\n",
            "2024-09-12 11:21:44 (1.66 GB/s) - ‘/home/jupyter/datasphere/project/.clickhouse/root.crt’ saved [3579/3579]\n",
            "\n"
          ]
        }
      ],
      "source": [
        "!mkdir -p /home/jupyter/datasphere/project/.clickhouse && \\\n",
        "wget \"https://storage.yandexcloud.net/cloud-certs/CA.pem\" \\\n",
        "     --output-document /home/jupyter/datasphere/project/.clickhouse/root.crt && \\\n",
        "chmod 0600 /home/jupyter/datasphere/project/.clickhouse/root.crt"
      ]
    },
    {
      "cell_type": "code",
      "execution_count": 147,
      "metadata": {
        "id": "iWr22zbZGaiU"
      },
      "outputs": [],
      "source": [
        "# указываем параметры подключения\n",
        "CA = '/home/jupyter/datasphere/project/.clickhouse/root.crt' # если вы не меняли путь при скачивании сертификата\n",
        "\n",
        "VERIFY = True\n",
        "SECURE = True\n",
        "USER = 'admin'\n",
        "PASSWORD = 'hakaton1'\n",
        "HOST = \"rc1d-uq593a42e02ikh2k.mdb.yandexcloud.net\" # адрес Clickhouse\n",
        "PORT = 8443"
      ]
    },
    {
      "cell_type": "code",
      "execution_count": 148,
      "metadata": {
        "id": "kSV59cnXGc28"
      },
      "outputs": [],
      "source": [
        "!pip install clickhouse_connect > /dev/null"
      ]
    },
    {
      "cell_type": "code",
      "execution_count": 149,
      "metadata": {
        "colab": {
          "base_uri": "https://localhost:8080/"
        },
        "id": "MQzmKaulGgQI",
        "outputId": "55d7756e-2bd1-4069-ce98-1606383ee4d9"
      },
      "outputs": [
        {
          "output_type": "stream",
          "name": "stdout",
          "text": [
            "24.3.10.33\n"
          ]
        }
      ],
      "source": [
        "# импортируем библиотеку\n",
        "import clickhouse_connect\n",
        "\n",
        "# выполняем запрос - в случае успешного выполнения будет показана текущая версия Clickhouse\n",
        "with clickhouse_connect.get_client(\n",
        "            host=HOST, port=PORT, username=USER,\n",
        "            password=PASSWORD, secure=SECURE, verify=VERIFY, ca_cert=CA) as ch_client:\n",
        "        print(ch_client.command('SELECT version()'))"
      ]
    },
    {
      "cell_type": "markdown",
      "metadata": {
        "id": "OFfLas13D94G"
      },
      "source": [
        "# Генерация IAM токена"
      ]
    },
    {
      "cell_type": "code",
      "execution_count": 150,
      "metadata": {
        "colab": {
          "base_uri": "https://localhost:8080/"
        },
        "id": "reSP_EJAS1XI",
        "outputId": "b328069c-3228-4dad-b468-5cee84042faa"
      },
      "outputs": [
        {
          "output_type": "stream",
          "name": "stdout",
          "text": [
            "\u001b[33mWARNING: Skipping jwt as it is not installed.\u001b[0m\u001b[33m\n",
            "\u001b[0mRequirement already satisfied: PyJWT in /usr/local/lib/python3.10/dist-packages (2.9.0)\n"
          ]
        }
      ],
      "source": [
        "# Устанавливаем пакеты, необходимые для обращения к YandexGPT API\n",
        "%pip uninstall jwt\n",
        "%pip install PyJWT -U"
      ]
    },
    {
      "cell_type": "code",
      "execution_count": 151,
      "metadata": {
        "id": "20DCZxM0S2Uo"
      },
      "outputs": [],
      "source": [
        "import requests\n",
        "import json\n",
        "import time\n",
        "import jwt\n",
        "import os"
      ]
    },
    {
      "cell_type": "code",
      "execution_count": 152,
      "metadata": {
        "id": "zmjX9NSbS5CX"
      },
      "outputs": [],
      "source": [
        "# Замените <идентификатор_сервисного_аккаунта> на ваше значение\n",
        "service_account_id = \"aje286em9u4ibs8572di\""
      ]
    },
    {
      "cell_type": "code",
      "execution_count": 153,
      "metadata": {
        "id": "mBwlw1_fS65H"
      },
      "outputs": [],
      "source": [
        "with open('/content/authorized_key.json') as f:\n",
        "    authorized_key = json.load(f)"
      ]
    },
    {
      "cell_type": "code",
      "execution_count": 154,
      "metadata": {
        "id": "MzbF1Ud_TH2t"
      },
      "outputs": [],
      "source": [
        "# Замените <идентификатор_ключа> на ваше значение\n",
        "key_id = \"ajeo9id7551hpq15fv3o\"\n",
        "private_key = authorized_key['private_key']"
      ]
    },
    {
      "cell_type": "code",
      "execution_count": 155,
      "metadata": {
        "id": "S4iPkOTjTJT1"
      },
      "outputs": [],
      "source": [
        "now = int(time.time())\n",
        "payload = {\n",
        "        'aud': 'https://iam.api.cloud.yandex.net/iam/v1/tokens',\n",
        "        'iss': service_account_id,\n",
        "        'iat': now,\n",
        "        'exp': now + 360}\n",
        "\n",
        "# Формирование JWT\n",
        "encoded_token = jwt.encode(\n",
        "    payload,\n",
        "    private_key,\n",
        "    algorithm='PS256',\n",
        "    headers={'kid': key_id})\n",
        "\n",
        "url = 'https://iam.api.cloud.yandex.net/iam/v1/tokens'\n",
        "x = requests.post(url,  headers={'Content-Type': 'application/json'}, json = {'jwt': encoded_token}).json()\n",
        "iam_token = x['iamToken']"
      ]
    },
    {
      "cell_type": "markdown",
      "metadata": {
        "id": "b-SG8dg2EOTI"
      },
      "source": [
        "# RAG Pipeline"
      ]
    },
    {
      "cell_type": "code",
      "execution_count": 156,
      "metadata": {
        "id": "HMEj-50tEgw1"
      },
      "outputs": [],
      "source": [
        "!pip install -q langchain_community langchain yandexcloud > /dev/null"
      ]
    },
    {
      "cell_type": "code",
      "execution_count": 157,
      "metadata": {
        "colab": {
          "base_uri": "https://localhost:8080/",
          "height": 35
        },
        "id": "6647pOMYEdP9",
        "outputId": "38de71fd-65d3-437b-a6fe-a5a2e76f38cf"
      },
      "outputs": [
        {
          "output_type": "execute_result",
          "data": {
            "text/plain": [
              "'gpt://b1g01stbeeo96j8kfaiv/yandexgpt/latest'"
            ],
            "application/vnd.google.colaboratory.intrinsic+json": {
              "type": "string"
            }
          },
          "metadata": {},
          "execution_count": 157
        }
      ],
      "source": [
        "# llm\n",
        "folder = 'b1g01stbeeo96j8kfaiv'\n",
        "model_uri = f'gpt://{folder}/yandexgpt/latest'\n",
        "model_uri"
      ]
    },
    {
      "cell_type": "code",
      "execution_count": 158,
      "metadata": {
        "id": "_drt1jl9SeQU"
      },
      "outputs": [],
      "source": [
        "from langchain_community.embeddings.yandex import YandexGPTEmbeddings\n",
        "\n",
        "# Cоздаем объект YandexGPTEmbeddings для построения векторов с помощью YandexGPT\n",
        "embeddings = YandexGPTEmbeddings(iam_token=iam_token, folder_id=folder)"
      ]
    },
    {
      "cell_type": "code",
      "execution_count": 159,
      "metadata": {
        "id": "doAx4j9eRbFn"
      },
      "outputs": [],
      "source": [
        "from langchain_community.vectorstores import Clickhouse, ClickhouseSettings\n",
        "\n",
        "ch_config = ClickhouseSettings(host=HOST, port=PORT, username=USER, password=PASSWORD)\n",
        "\n",
        "docsearch = Clickhouse(embedding=embeddings, config=ch_config, verify=VERIFY, ca_cert=CA)"
      ]
    },
    {
      "cell_type": "code",
      "execution_count": 160,
      "metadata": {
        "id": "iMda2BpKR3vc"
      },
      "outputs": [],
      "source": [
        "retriever = docsearch.as_retriever(\n",
        "    search_type=\"similarity\",\n",
        "    search_kwargs={'k': 5}\n",
        ")"
      ]
    },
    {
      "cell_type": "code",
      "execution_count": 161,
      "metadata": {
        "colab": {
          "base_uri": "https://localhost:8080/"
        },
        "id": "ZelPpfOFCrnA",
        "outputId": "e8ae3b90-f297-422a-c031-e20b1f1da1e1"
      },
      "outputs": [
        {
          "output_type": "execute_result",
          "data": {
            "text/plain": [
              "ChatPromptTemplate(input_variables=['context', 'question'], messages=[HumanMessagePromptTemplate(prompt=PromptTemplate(input_variables=['context', 'question'], template='\\nТы - генератор интерфейсов по запросу пользователя на естественном языке.\\nТвой ответ должен содержать только код и не должен содержать описания или другого постороннего текста.\\nТы обязан использовать дизайн компоненты системы НЛМК.\\nУчитывай, что твой вывод должен быть валидным React.js кодом, который можно запускать без ошибок.\\nОтветь на вопрос, основываясь только на следующем контексте:\\n{context}\\n\\nВопрос: {question}\\n'))])"
            ]
          },
          "metadata": {},
          "execution_count": 161
        }
      ],
      "source": [
        "from langchain.prompts import ChatPromptTemplate\n",
        "\n",
        "# Prompt\n",
        "template = \"\"\"\n",
        "Ты - генератор интерфейсов по запросу пользователя на естественном языке.\n",
        "Твой ответ должен содержать только код и не должен содержать описания или другого постороннего текста.\n",
        "Ты обязан использовать дизайн компоненты системы НЛМК.\n",
        "Учитывай, что твой вывод должен быть валидным React.js кодом, который можно запускать без ошибок.\n",
        "Ответь на вопрос, основываясь только на следующем контексте:\n",
        "{context}\n",
        "\n",
        "Вопрос: {question}\n",
        "\"\"\"\n",
        "\n",
        "prompt = ChatPromptTemplate.from_template(template)\n",
        "prompt"
      ]
    },
    {
      "cell_type": "code",
      "execution_count": 162,
      "metadata": {
        "id": "J3uCo6fUDpGD"
      },
      "outputs": [],
      "source": [
        "from langchain_community.llms import YandexGPT\n",
        "\n",
        "llm = YandexGPT(iam_token=iam_token, model_uri=model_uri, tempreture=0.6)"
      ]
    },
    {
      "cell_type": "code",
      "execution_count": 163,
      "metadata": {
        "id": "uYjZ0_HaE0Q3"
      },
      "outputs": [],
      "source": [
        "# Chain\n",
        "chain = prompt | llm"
      ]
    },
    {
      "cell_type": "code",
      "execution_count": 164,
      "metadata": {
        "id": "zCKI8Ev2FAzX"
      },
      "outputs": [],
      "source": [
        "question = \"Создай страницу c Sidebar слева, Header сверху страницы, далее ниже по горизонтале 9 шт. Input, справа от Input по горизонтале будет 2 шт. Button, далее ниже Tabs, далее ниже по вертикале 11 шт. Input, внизу страницы будет 2 шт. Button.\""
      ]
    },
    {
      "cell_type": "markdown",
      "metadata": {
        "id": "pyCKW5rGC-Su"
      },
      "source": [
        "# Decomposition"
      ]
    },
    {
      "cell_type": "code",
      "execution_count": 165,
      "metadata": {
        "id": "Oqv0Zca7gwOO"
      },
      "outputs": [],
      "source": [
        "stupid = YandexGPT(iam_token=iam_token, model_uri=model_uri, tempreture=0.35)"
      ]
    },
    {
      "cell_type": "code",
      "execution_count": 166,
      "metadata": {
        "id": "8mahXh8NTeIY"
      },
      "outputs": [],
      "source": [
        "from langchain.prompts import ChatPromptTemplate\n",
        "\n",
        "# Decomposition\n",
        "template = \"\"\"\n",
        "Ты ассистент, который разделяет входящий запрос на несколько подзапросов.\n",
        "В основном входящий запрос будет требовать сгенерировать веб-интерфейс по описанию.\n",
        "Разбей запрос на набор подзадач генерации отдельных высокоуровневых веб-компонент.\n",
        "Каждая подзадача должна соответствовать одной единственной веб-компоненте.\n",
        "Если в запросе указано название компоненты, то обязательно сохрани его.\n",
        "Если в запросе указано относительное положение компненты, то обязательно сохрани его\n",
        "и продублируй название компоненты, относительно которой она будет располагаться, в\n",
        "соотвествующем подзапросе.\n",
        "В начале добавь подзапрос - \"Позиционируй все элементы при помощи компоненты Grid\".\n",
        "Сгенерируй несколько подзапросов для запроса: {question}.\n",
        "\n",
        "Обязательно соблюдай правила форматирования ответа:\n",
        "- Ничего кроме самих подзапросов писать не нужно.\n",
        "- Один подзапрос - одно предложение.\n",
        "- Каждый подзапрос должен быть написан в отдельной строке.\n",
        "\n",
        "Пример:\n",
        "Запрос пользователя - создай кнопку, слевой от неё текст люблю щенят\n",
        "Твой ответ:\n",
        "1. Создай первый элемент кнопка 'Button'\n",
        "2. С помощью компоненты 'Grid' добавь слева от первого элемента (кнопки) второй элемент Input c тестом \"люблю щенят\"\n",
        "\"\"\"\n",
        "prompt_decomposition = ChatPromptTemplate.from_template(template)"
      ]
    },
    {
      "cell_type": "code",
      "execution_count": 167,
      "metadata": {
        "id": "JAiRDr9AThdM"
      },
      "outputs": [],
      "source": [
        "from langchain_core.output_parsers import StrOutputParser\n",
        "\n",
        "def parse_final_answer(output: str) -> list[str]:\n",
        "    str_list = list(filter(None, output.split(\"\\n\")))\n",
        "    return str_list\n",
        "\n",
        "# Chain\n",
        "generate_queries_decomposition = ( prompt_decomposition | stupid | StrOutputParser() )\n",
        "\n",
        "# Run\n",
        "questions = generate_queries_decomposition.invoke({\"question\": question})"
      ]
    },
    {
      "cell_type": "code",
      "execution_count": 168,
      "metadata": {
        "colab": {
          "base_uri": "https://localhost:8080/"
        },
        "id": "L_-wxSj6T-mj",
        "outputId": "578e0e9d-b29e-4b3d-f2ff-ac425d6b5cc7"
      },
      "outputs": [
        {
          "output_type": "execute_result",
          "data": {
            "text/plain": [
              "['Позиционируй все элементы при помощи компоненты Grid.\\n\\n1. Создай компонент Sidebar слева от основного содержимого страницы.\\n2. Добавь компонент Header сверху страницы.\\n3. Ниже по горизонтали размести 9 элементов Input.\\n4. Справа от каждого элемента Input по горизонтали разместите 2 элемента Button.\\n5. Ниже разместите компонент Tabs.\\n6. Ещё ниже по вертикали разместите 11 элементов Input.\\n7. Внизу страницы разместите 2 элемента Button.']"
            ]
          },
          "metadata": {},
          "execution_count": 168
        }
      ],
      "source": [
        "[questions]"
      ]
    },
    {
      "cell_type": "code",
      "execution_count": 169,
      "metadata": {
        "id": "CC9aEqSQm0Tn"
      },
      "outputs": [],
      "source": [
        "# Prompt\n",
        "template = \"\"\"\n",
        "Ты - генератор веб-интерфейсов по запросу пользователя на естественном языке.\n",
        "Твой ответ должен содержать только код и не должен содержать описания или другого постороннего текста.\n",
        "Ты обязан использовать дизайн компоненты системы НЛМК.\n",
        "Вывод должен быть валидным React.js кодом, который запускается без ошибок.\n",
        "Проверяй, чтобы в импортируемых компонентах не было повторений.\n",
        "\n",
        "К каждой компоненте НЛМК добавь префикс \"DS\" c точкой на конце. Например: DS.Sidebar, DS.Input, DS.Button, DS.Box и т. д.\n",
        "Обязательно сохраняй вложенность тегов. Например, Tabs.Tab должен в итоге быть DS.Tabs.Tab.\n",
        "\n",
        "Не ставь многоточие (три точки - \"...\"), чтоб пропустить элементы.\n",
        "Каждый элемент ОБЯЗАТЕЛЬНО должен быть прописан в выводе.\n",
        "Также НЕ используй комментарии с многоточием (три точки \"...\").\n",
        "Например, если написано \"Добавить 9 кнопок\", значит все 9 элементов должны быть в выводе.\n",
        "\n",
        "Обращай внимание на объявления переменных в дополнительном контексте (переменные имеют модифкатор const).\n",
        "Например, если компонент использует переменные, как в коде ниже (DS.Tab использует activeTab):\n",
        "```javascript\n",
        "...\n",
        "<>\n",
        "  <DS.Tabs>\n",
        "    <DS.Tabs.Tab\n",
        "      label=\"Входящие\"\n",
        "      active={{0 === Number(activeTab)}}\n",
        "      onClick={{() => setActiveTab(0)}}\n",
        "    />\n",
        "  </DS.Tabs>\n",
        "</>\n",
        "...\n",
        "```\n",
        "То ОБЯЗАТЕЛЬНО вставь объявление activeTab вместе с функцией setActiveTab выше:\n",
        "```javascript\n",
        "...\n",
        "const [activeTab, setActiveTab] = useState(0);\n",
        "\n",
        "return (\n",
        "  <>\n",
        "    <DS.Tabs>\n",
        "      <DS.Tabs.Tab\n",
        "        label=\"Входящие\"\n",
        "        active={{0 === Number(activeTab)}}\n",
        "        onClick={{() => setActiveTab(0)}}\n",
        "      />\n",
        "    </DS.Tabs>\n",
        "  </>\n",
        ")\n",
        "...\n",
        "```\n",
        "\n",
        "Ответь на вопрос, основываясь на коде из дополнительного контекста.\n",
        "\n",
        "Бери за основу код из дополнительного контекста и накладывай изменения на него.\n",
        "Дополнительный контекст, относящийся к запросу:\n",
        "\n",
        "\\n --- \\n {context} \\n --- \\n\n",
        "\n",
        "Запросы, на которые нужно ответить:\n",
        "\\n --- \\n {question} \\n --- \\n\n",
        "\n",
        "Обязательно сохрани код, указанный ниже.\n",
        "Код:\n",
        "\\n --- \\n {q_a_pairs} \\n --- \\n\n",
        "\"\"\"\n",
        "\n",
        "decomposition_prompt = ChatPromptTemplate.from_template(template)"
      ]
    },
    {
      "cell_type": "code",
      "execution_count": 170,
      "metadata": {
        "colab": {
          "base_uri": "https://localhost:8080/"
        },
        "id": "wjOGgnlTm1Hq",
        "outputId": "7292aaf9-3d41-4ad5-94ca-3fd0f0119f91"
      },
      "outputs": [
        {
          "output_type": "stream",
          "name": "stdout",
          "text": [
            "\n",
            "import { useState, useEffect } from \"react\";\n",
            "import * as DS from \"@nlmk/ds-2.0\";\n",
            "\n",
            "const App = () => {\n",
            "    {/* Генерируй код внутри */}\n",
            "};\n",
            "\n",
            "export default App;\n",
            "\n",
            "retriever output\n",
            "----------------------------------------------------------------------------------------------------\n",
            "----------------------------------------------------------------------------------------------------\n"
          ]
        }
      ],
      "source": [
        "from operator import itemgetter\n",
        "from langchain_core.output_parsers import StrOutputParser\n",
        "\n",
        "def format_qa_pair(question, answer):\n",
        "    \"\"\"Format Q and A pair\"\"\"\n",
        "\n",
        "    formatted_string = \"\"\n",
        "    # formatted_string += f\"Запрос:\\n{question}\\n\\nОтвет:\\n{answer}\\n\\n\"\n",
        "    formatting_string = f\"{answer}\\n\\n\"\n",
        "\n",
        "    return formatted_string.strip()\n",
        "\n",
        "def show(docs):\n",
        "  print(\"retriever output\")\n",
        "  print('-' * 100)\n",
        "  for doc in docs:\n",
        "    print(doc)\n",
        "  print('-'* 100)\n",
        "  return docs\n",
        "\n",
        "q_a_pairs = \"\"\"\n",
        "import { useState, useEffect } from \"react\";\n",
        "import * as DS from \"@nlmk/ds-2.0\";\n",
        "\n",
        "const App = () => {\n",
        "    {/* Генерируй код внутри */}\n",
        "};\n",
        "\n",
        "export default App;\n",
        "\"\"\"\n",
        "\n",
        "for q in [questions]:\n",
        "\n",
        "    print(q_a_pairs)\n",
        "\n",
        "    rag_chain = (\n",
        "    {\"context\": itemgetter(\"question\") | retriever | show,\n",
        "     \"question\": itemgetter(\"question\"),\n",
        "     \"q_a_pairs\": itemgetter(\"q_a_pairs\")}\n",
        "    | decomposition_prompt\n",
        "    | llm\n",
        "    | StrOutputParser())\n",
        "\n",
        "    answer = rag_chain.invoke({\"question\": q, \"q_a_pairs\": q_a_pairs})\n",
        "    q_a_pair = format_qa_pair(q,answer)\n",
        "    # q_a_pairs = q_a_pairs + '\\n---\\n' + q_a_pair\n",
        "    q_a_pairs = q_a_pair\n",
        "\n",
        "    # print(answer)"
      ]
    },
    {
      "cell_type": "code",
      "execution_count": 145,
      "metadata": {
        "colab": {
          "base_uri": "https://localhost:8080/"
        },
        "id": "mSeKVDbkm9iN",
        "outputId": "114f006c-9f64-44c3-b1e8-4042a8f0152b"
      },
      "outputs": [
        {
          "output_type": "stream",
          "name": "stdout",
          "text": [
            "```\n",
            "import { useState, useEffect } from \"react\";\n",
            "import * as DS from \"@nlmk/ds-2.0\";\n",
            "\n",
            "const App = () => {\n",
            "  const [activeTab, setActiveTab] = useState(0);\n",
            "  return (\n",
            "    <>\n",
            "      <DS.Sidebar />\n",
            "      <DS.Grid borderRadius=\"var(--4-border)\">\n",
            "        <DS.Header />\n",
            "        {/* Позиционируй все элементы при помощи компоненты Grid */}\n",
            "        <DS.Tabs>\n",
            "          <DS.Tabs.Tab\n",
            "            label=\"Входящие\"\n",
            "            active={0 === Number(activeTab)}\n",
            "            onClick={() => setActiveTab(0)}\n",
            "          />\n",
            "        </DS.Tabs>\n",
            "        <div style={{ display: \"flex\", flexDirection: \"row\" }}>\n",
            "          {/* Создай компонент Sidebar слева от компонента Grid */}\n",
            "          <DS.Input />\n",
            "          {/* Добавь ниже по горизонтали девять компонентов Input */}\n",
            "          {Array.from({ length: 9 }, (_, i) => (\n",
            "            <DS.Input key={i} />\n",
            "          ))}\n",
            "          {/* Расположи два компонента Button справа от каждого из девяти компонентов Input, находящихся ниже по горизонтали */}\n",
            "          {Array.from(\n",
            "            { length: 18 },\n",
            "            (_, i) => i % 2 === 0 ? (\n",
            "              <DS.Button key={i / 2} />\n",
            "            ) : null\n",
            "          )}\n",
            "        </div>\n",
            "        {/* Добавь компонент Tabs ниже девяти компонентов Input и двух компонентов Button */}\n",
            "        <DS.Tabs activeTab={activeTab}>\n",
            "          <DS.Tabs.Tab label=\"Входящие\" active />\n",
            "          <DS.Tabs.Tab label=\"Исходящие\" />\n",
            "        </DS.Tabs>\n",
            "        {/* Добавь одиннадцать компонентов Input ниже компонента Tabs */}\n",
            "        <div>\n",
            "          {Array.from({ length: 11 }, (_, i) => <DS.Input key={i + 2} />)}\n",
            "        </div>\n",
            "        {/* Расположи два компонента Button внизу страницы */}\n",
            "        <div style={{ marginTop: \"100px\" }}>\n",
            "          <DS.Button />\n",
            "          <DS.Button />\n",
            "        </div>\n",
            "      </DS.Grid>\n",
            "    </>\n",
            "  );\n",
            "};\n",
            "\n",
            "export default App;\n",
            "```\n"
          ]
        }
      ],
      "source": [
        "print(answer)"
      ]
    },
    {
      "cell_type": "markdown",
      "metadata": {
        "id": "5fQNLBOGHNJC"
      },
      "source": [
        "# Использовать релевантные для запроса документы"
      ]
    },
    {
      "cell_type": "code",
      "execution_count": null,
      "metadata": {
        "colab": {
          "base_uri": "https://localhost:8080/"
        },
        "id": "YsTUyn5BImnH",
        "outputId": "5ac55c00-7ecc-4a9e-a25b-862ece5eee58"
      },
      "outputs": [
        {
          "name": "stdout",
          "output_type": "stream",
          "text": [
            "1\n",
            "* Card\n",
            "Компонент Card является функциональным компонентом, который предназначен для отображения карточки с различными элементами интерфейса, такими как изображение, заголовок, описание, значки, селектор и группа кнопок.\n",
            "Card по умолчанию\n",
            "import { Button, Card, Typography, Select } from '@nlmk/ds-2.0';\n",
            "\n",
            "export default  App = () => (\n",
            "  <>\n",
            "    <div style={{\n",
            "      backgroundColor: 'var(--steel-20)',\n",
            "      width: 'fit-content',\n",
            "      padding: '20px'\n",
            "  }}>\n",
            "    <Card>\n",
            "      <div\n",
            "        style={{\n",
            "          height: '200px',\n",
            "          width: '300px',\n",
            "          display: 'flex',\n",
            "          flexDirection: 'column',\n",
            "          gap: '10px'\n",
            "        }}\n",
            "      >\n",
            "        <Typography variant='Heading3'>\n",
            "          Заголовок\n",
            "        </Typography>\n",
            "\n",
            "        <Select\n",
            "          label=\"Выберите язык программирования\"\n",
            "          options={[\n",
            "            {\n",
            "              label: 'C++',\n",
            "              value: 'C++'\n",
            "            },\n",
            "            {\n",
            "              label: 'C#',\n",
            "              value: 'C#'\n",
            "            }]}\n",
            "        />\n",
            "\n",
            "        <div style={{ display: 'flex', gap: '8px', marginTop: 'auto' }}>\n",
            "          <Button>\n",
            "            Button\n",
            "          </Button>\n",
            "          <Button variant=\"secondary\">\n",
            "            Button\n",
            "          </Button>\n",
            "        </div>\n",
            "      </div>\n",
            "    </Card>\n",
            "  </div>\n",
            "</>\n",
            ")\n",
            "\n",
            " [{'_dummy': 0}]\n"
          ]
        }
      ],
      "source": [
        "results = docsearch.similarity_search(query=question, k=1)\n",
        "print(len(results))\n",
        "for doc in results: print(f\"* {doc.page_content} [{doc.metadata}]\")"
      ]
    },
    {
      "cell_type": "code",
      "execution_count": null,
      "metadata": {
        "colab": {
          "base_uri": "https://localhost:8080/"
        },
        "id": "TAJy1w2DFuzN",
        "outputId": "242b5e75-217f-4df3-e3ea-9062a0fef8d2"
      },
      "outputs": [
        {
          "name": "stdout",
          "output_type": "stream",
          "text": [
            "```\n",
            "import { Button, Card, Typography } from '@nlmk/ds-2.0';\n",
            "\n",
            "export default function App() {\n",
            "  return (\n",
            "    <div style={{ backgroundColor: 'var(--steel-20)', width: 'fit-content', padding: '20px' }}>\n",
            "      <Card>\n",
            "        <img src=\"product-image.jpg\" alt=\"Product image\" width=\"100%\" height=\"150px\" />\n",
            "        <div style={{ height: '200px', width: '300px', display: 'flex', flexDirection: 'column', gap: '10px' }} >\n",
            "          <Typography variant='Heading3'>\n",
            "            Название продукта\n",
            "          </Typography>\n",
            "          <Select label=\"Выберите язык программирования\" options={[{ label: 'C++', value: 'C++' }, { label: 'C#', value: 'C#' }]} />\n",
            "          <div style={{ display: 'flex', gap: '8px', marginTop: 'auto' }} >\n",
            "            <Button>Купить</Button>\n",
            "            <Button variant=\"secondary\">Подробнее</Button>\n",
            "          </div>\n",
            "        </div>\n",
            "      </Card>\n",
            "    </div>\n",
            "  );\n",
            "}\n",
            "```\n"
          ]
        }
      ],
      "source": [
        "from langchain_core.output_parsers import StrOutputParser\n",
        "from langchain_core.runnables import RunnablePassthrough\n",
        "\n",
        "rag_chain = (\n",
        "    {\"context\": retriever, \"question\": RunnablePassthrough()}\n",
        "    | prompt\n",
        "    | llm\n",
        "    | StrOutputParser()\n",
        ")\n",
        "\n",
        "response = rag_chain.invoke(question)\n",
        "print(response)"
      ]
    },
    {
      "cell_type": "code",
      "execution_count": null,
      "metadata": {
        "id": "lgT_DN-uHVij"
      },
      "outputs": [],
      "source": []
    }
  ],
  "metadata": {
    "colab": {
      "provenance": []
    },
    "kernelspec": {
      "display_name": "Python 3",
      "name": "python3"
    },
    "language_info": {
      "name": "python"
    }
  },
  "nbformat": 4,
  "nbformat_minor": 0
}