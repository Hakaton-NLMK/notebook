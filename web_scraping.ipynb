{
  "nbformat": 4,
  "nbformat_minor": 0,
  "metadata": {
    "colab": {
      "provenance": []
    },
    "kernelspec": {
      "name": "python3",
      "display_name": "Python 3"
    },
    "language_info": {
      "name": "python"
    }
  },
  "cells": [
    {
      "cell_type": "markdown",
      "source": [
        "# Connect to ClickHouse Database"
      ],
      "metadata": {
        "id": "UcVbN3fpoAAr"
      }
    },
    {
      "cell_type": "code",
      "source": [
        "!mkdir -p /home/jupyter/datasphere/project/.clickhouse && \\\n",
        "wget \"https://storage.yandexcloud.net/cloud-certs/CA.pem\" \\\n",
        "     --output-document /home/jupyter/datasphere/project/.clickhouse/root.crt && \\\n",
        "chmod 0600 /home/jupyter/datasphere/project/.clickhouse/root.crt"
      ],
      "metadata": {
        "colab": {
          "base_uri": "https://localhost:8080/"
        },
        "id": "b8BXl_5zoE4d",
        "outputId": "6211934f-b89e-40bf-a461-225faf8323e1"
      },
      "execution_count": 99,
      "outputs": [
        {
          "output_type": "stream",
          "name": "stdout",
          "text": [
            "--2024-09-12 11:11:57--  https://storage.yandexcloud.net/cloud-certs/CA.pem\n",
            "Resolving storage.yandexcloud.net (storage.yandexcloud.net)... 213.180.193.243, 2a02:6b8::1d9\n",
            "Connecting to storage.yandexcloud.net (storage.yandexcloud.net)|213.180.193.243|:443... connected.\n",
            "HTTP request sent, awaiting response... 200 OK\n",
            "Length: 3579 (3.5K) [application/x-x509-ca-cert]\n",
            "Saving to: ‘/home/jupyter/datasphere/project/.clickhouse/root.crt’\n",
            "\n",
            "/home/jupyter/datas 100%[===================>]   3.50K  --.-KB/s    in 0s      \n",
            "\n",
            "2024-09-12 11:11:57 (1.09 GB/s) - ‘/home/jupyter/datasphere/project/.clickhouse/root.crt’ saved [3579/3579]\n",
            "\n"
          ]
        }
      ]
    },
    {
      "cell_type": "code",
      "source": [
        "# указываем параметры подключения\n",
        "CA = '/home/jupyter/datasphere/project/.clickhouse/root.crt' # если вы не меняли путь при скачивании сертификата\n",
        "\n",
        "VERIFY = True\n",
        "SECURE = True\n",
        "USER = 'admin'\n",
        "PASSWORD = 'hakaton1'\n",
        "HOST = \"rc1d-uq593a42e02ikh2k.mdb.yandexcloud.net\" # адрес Clickhouse\n",
        "PORT = 8443"
      ],
      "metadata": {
        "id": "qN0-8nwvoF-g"
      },
      "execution_count": 100,
      "outputs": []
    },
    {
      "cell_type": "code",
      "source": [
        "!pip install clickhouse_connect > /dev/null"
      ],
      "metadata": {
        "id": "I2kuqlJsoHYo"
      },
      "execution_count": 101,
      "outputs": []
    },
    {
      "cell_type": "code",
      "source": [
        "# импортируем библиотеку\n",
        "import clickhouse_connect\n",
        "\n",
        "# выполняем запрос - в случае успешного выполнения будет показана текущая версия Clickhouse\n",
        "with clickhouse_connect.get_client(\n",
        "            host=HOST, port=PORT, username=USER,\n",
        "            password=PASSWORD, secure=SECURE, verify=VERIFY, ca_cert=CA) as ch_client:\n",
        "        print(ch_client.command('SELECT version()'))"
      ],
      "metadata": {
        "colab": {
          "base_uri": "https://localhost:8080/"
        },
        "id": "EqVZv5T8oJeG",
        "outputId": "e8c809a6-163f-4fc9-f801-03cbe22584bc"
      },
      "execution_count": 102,
      "outputs": [
        {
          "output_type": "stream",
          "name": "stdout",
          "text": [
            "24.3.10.33\n"
          ]
        }
      ]
    },
    {
      "cell_type": "markdown",
      "source": [
        "# Web Scraping"
      ],
      "metadata": {
        "id": "XG8BJiyeoNWO"
      }
    },
    {
      "cell_type": "code",
      "source": [
        "!pip install selenium chromedriver_autoinstaller beautifulsoup4 tqdm > /dev/null"
      ],
      "metadata": {
        "id": "UPwrctMAoQh4"
      },
      "execution_count": 103,
      "outputs": []
    },
    {
      "cell_type": "code",
      "source": [
        "from selenium import webdriver\n",
        "\n",
        "chrome_options = webdriver.ChromeOptions()\n",
        "chrome_options.add_argument('--headless') # this is must\n",
        "chrome_options.add_argument('--no-sandbox')\n",
        "chrome_options.add_argument('--disable-dev-shm-usage')\n",
        "chrome_options.add_argument('--disable-blink-features=AutomationControlled')"
      ],
      "metadata": {
        "id": "oLOh3IhAoSOL"
      },
      "execution_count": 104,
      "outputs": []
    },
    {
      "cell_type": "code",
      "source": [
        "import os\n",
        "dir = \"/content/custom_codes\"\n",
        "os.makedirs(dir, exist_ok=True)\n",
        "prefs = {\"download.default_directory\" : dir}\n",
        "chrome_options.add_experimental_option(\"prefs\", prefs);"
      ],
      "metadata": {
        "id": "62u1BvZpz9-t"
      },
      "execution_count": 105,
      "outputs": []
    },
    {
      "cell_type": "code",
      "source": [
        "driver = webdriver.Chrome(options=chrome_options)\n",
        "driver.set_page_load_timeout(10)"
      ],
      "metadata": {
        "id": "ur8CseV4oYDZ"
      },
      "execution_count": 122,
      "outputs": []
    },
    {
      "cell_type": "code",
      "source": [
        "from bs4 import BeautifulSoup\n",
        "\n",
        "url = 'https://nlmk-group.github.io/ds-2.0/?path=/docs/components-sidebar-info--docs'\n",
        "\n",
        "driver.get(url)\n",
        "\n",
        "soup = BeautifulSoup(driver.page_source, 'lxml')\n",
        "# print(soup.prettify())\n",
        "\n",
        "components = list(map(lambda c: c.get_text(), soup.findAll('button', {\"data-parent-id\": \"components\"})))\n",
        "components[:5]"
      ],
      "metadata": {
        "colab": {
          "base_uri": "https://localhost:8080/"
        },
        "id": "ABaGHQrLojps",
        "outputId": "2bcca428-498e-4fef-9225-9dfdfad2bcc3"
      },
      "execution_count": 108,
      "outputs": [
        {
          "output_type": "execute_result",
          "data": {
            "text/plain": [
              "['Accordion', 'Alert', 'AttachFiles', 'Avatar', 'Badge']"
            ]
          },
          "metadata": {},
          "execution_count": 108
        }
      ]
    },
    {
      "cell_type": "code",
      "source": [
        "docs = {}\n",
        "completed_set = set()"
      ],
      "metadata": {
        "id": "IK0m-59vornW"
      },
      "execution_count": 109,
      "outputs": []
    },
    {
      "cell_type": "code",
      "source": [
        "from selenium.webdriver.common.by import By\n",
        "from selenium.webdriver.support.ui import WebDriverWait\n",
        "from selenium.webdriver.support import expected_conditions as EC\n",
        "\n",
        "from tqdm import tqdm\n",
        "import time\n",
        "import random\n",
        "\n",
        "sleep_time = [2, 3, 5, 7, 11]\n",
        "\n",
        "for c_index, c in tqdm(enumerate(components), total=len(components)):\n",
        "    if c_index in completed_set: continue\n",
        "\n",
        "    spans_text = []\n",
        "\n",
        "    while len(spans_text) == 0:\n",
        "        url_template = 'https://nlmk-group.github.io/ds-2.0/?path=/docs/components-{}-info--docs'\n",
        "        url = url_template.format(c.lower())\n",
        "\n",
        "        time.sleep(random.choice(sleep_time))\n",
        "\n",
        "        driver.get(url)\n",
        "\n",
        "        iframe = WebDriverWait(driver, 10).until(EC.presence_of_element_located((By.XPATH, \"//iframe[@id='storybook-preview-iframe']\")))\n",
        "        driver.switch_to.frame(iframe)\n",
        "\n",
        "        # Parse the HTML\n",
        "        soup = BeautifulSoup(driver.page_source, 'html.parser')\n",
        "        # print(soup.prettify())\n",
        "\n",
        "\n",
        "        try:\n",
        "            WebDriverWait(driver, 50).until(\n",
        "                EC.presence_of_element_located((By.XPATH, \"//span[@data-testid='typography-wrapper']\"))\n",
        "            )\n",
        "        except TimeoutException as e:\n",
        "            print(\"Timed out waiting for spans to load\")\n",
        "\n",
        "        spans = soup.findAll('span', {'data-testid': 'typography-wrapper', 'class': '_typography--variant-Body1_1lcvd_131 _typography_1lcvd_1'})\n",
        "\n",
        "        spans_text = list(map(lambda c: c.get_text().strip(), spans))\n",
        "\n",
        "    # print(f\"{len(spans_text)=}\")\n",
        "    # print('\\n'.join(spans_text))\n",
        "    # print()\n",
        "\n",
        "    description = spans_text[0]\n",
        "    spans_text = spans_text[1:]\n",
        "\n",
        "    code = soup.findAll('div', {'class': 'sp-code-editor'})\n",
        "    codes_text = [div.find('pre').get_text() for div in code]\n",
        "\n",
        "    completed_set.add(c_index)\n",
        "\n",
        "    # print(f\"{len(codes_text)=}\")\n",
        "    # print(codes_text[0])\n",
        "    # print('-' * 100)\n",
        "\n",
        "    for d_index, data in enumerate(zip(spans_text, codes_text)):\n",
        "        key = f'{c}:{c_index}:{d_index}'\n",
        "        if key not in docs:\n",
        "            value = f\"{c}\\n\\nОписание:\\n{description}\\n{data[0]}\\n\\nКод:\\n{data[1]}\\n\"\n",
        "            docs[key] = value"
      ],
      "metadata": {
        "colab": {
          "base_uri": "https://localhost:8080/"
        },
        "id": "UywK8PS0ova5",
        "outputId": "5f98b0f4-88e2-4c69-9172-d0598cb3906b"
      },
      "execution_count": 110,
      "outputs": [
        {
          "output_type": "stream",
          "name": "stderr",
          "text": [
            "100%|██████████| 44/44 [07:47<00:00, 10.61s/it]\n"
          ]
        }
      ]
    },
    {
      "cell_type": "code",
      "source": [
        "len(docs)"
      ],
      "metadata": {
        "colab": {
          "base_uri": "https://localhost:8080/"
        },
        "id": "oToo5jOZoxT3",
        "outputId": "b4ee76ef-d2b8-427c-977c-d837e4ee92e3"
      },
      "execution_count": 111,
      "outputs": [
        {
          "output_type": "execute_result",
          "data": {
            "text/plain": [
              "164"
            ]
          },
          "metadata": {},
          "execution_count": 111
        }
      ]
    },
    {
      "cell_type": "code",
      "source": [
        "print(list(docs.items())[160][1])"
      ],
      "metadata": {
        "colab": {
          "base_uri": "https://localhost:8080/"
        },
        "id": "1H7DL2Qypkhw",
        "outputId": "0a449ce9-cbdd-4e01-b591-84d4f239df02"
      },
      "execution_count": 112,
      "outputs": [
        {
          "output_type": "stream",
          "name": "stdout",
          "text": [
            "Tooltip\n",
            "\n",
            "Описание:\n",
            "Компонент-подсказка, появляющийся при определенном взаимодействии с дочерним элементом компонента (по умолчанию: при наведении курсора). Tooltip рассчитан не только на работу с простой информацией (текст) с единой стилизацией, но и на визуализацию подсказок, содержащих нестандартную информацию (списки, картинки, таблицы).\n",
            "По умолчанию Тултип не открывается вокруг disabled элементов. Для того чтобы Тултип открывался корректно в этом случае, нужно оборачиваемый элемент обернуть простым элементом-оберткой, например span.\n",
            "\n",
            "Код:\n",
            "import { Tooltip, Button } from '@nlmk/ds-2.0';\n",
            "\n",
            "export default  App = () => (\n",
            "  <div style={{\n",
            "  display: 'flex',\n",
            "  flexDirection: 'column',\n",
            "  justifyContent: 'center',\n",
            "  gap: '12px',\n",
            "  padding: '30px',\n",
            "  margin: '0 auto',\n",
            "  height: '180px',\n",
            "  color: 'var(--text-grey-900)'\n",
            "}}>\n",
            "    <Tooltip description=\"Сюда вы можете добавить текст/подсказу для компонента\">\n",
            "      <span>\n",
            "        <Button variant=\"secondary\" disabled>\n",
            "          Наведи на меня курсор!\n",
            "        </Button>\n",
            "      </span>\n",
            "    </Tooltip>\n",
            "  </div>\n",
            ")\n",
            "\n",
            "\n",
            "\n"
          ]
        }
      ]
    },
    {
      "cell_type": "code",
      "source": [
        "driver.quit()"
      ],
      "metadata": {
        "id": "e1YgjfropmCf"
      },
      "execution_count": 113,
      "outputs": []
    },
    {
      "cell_type": "markdown",
      "source": [
        "# IAM токен для эмбеддингов"
      ],
      "metadata": {
        "id": "-tz3MNgArEtg"
      }
    },
    {
      "cell_type": "code",
      "source": [
        "# Устанавливаем пакеты, необходимые для обращения к YandexGPT API\n",
        "%pip uninstall jwt\n",
        "%pip install PyJWT -U"
      ],
      "metadata": {
        "colab": {
          "base_uri": "https://localhost:8080/"
        },
        "id": "Wio57QQLrPWr",
        "outputId": "2754f6d1-b8bb-40a2-98bc-b5c3af7d070f"
      },
      "execution_count": 79,
      "outputs": [
        {
          "output_type": "stream",
          "name": "stdout",
          "text": [
            "\u001b[33mWARNING: Skipping jwt as it is not installed.\u001b[0m\u001b[33m\n",
            "\u001b[0mRequirement already satisfied: PyJWT in /usr/local/lib/python3.10/dist-packages (2.9.0)\n"
          ]
        }
      ]
    },
    {
      "cell_type": "code",
      "source": [
        "import requests\n",
        "import json\n",
        "import time\n",
        "import jwt\n",
        "import os"
      ],
      "metadata": {
        "id": "_xjrCVQgrR1C"
      },
      "execution_count": 80,
      "outputs": []
    },
    {
      "cell_type": "code",
      "source": [
        "# Замените <идентификатор_сервисного_аккаунта> на ваше значение\n",
        "service_account_id = \"aje286em9u4ibs8572di\""
      ],
      "metadata": {
        "id": "5lGIDl0PrUIA"
      },
      "execution_count": 81,
      "outputs": []
    },
    {
      "cell_type": "code",
      "source": [
        "with open('/content/authorized_key.json') as f:\n",
        "    authorized_key = json.load(f)"
      ],
      "metadata": {
        "id": "ksqavpyJrWSg"
      },
      "execution_count": 82,
      "outputs": []
    },
    {
      "cell_type": "code",
      "source": [
        "# Замените <идентификатор_ключа> на ваше значение\n",
        "key_id = \"ajeo9id7551hpq15fv3o\"\n",
        "private_key = authorized_key['private_key']"
      ],
      "metadata": {
        "id": "NWdH5UHMrdbL"
      },
      "execution_count": 83,
      "outputs": []
    },
    {
      "cell_type": "code",
      "source": [
        "now = int(time.time())\n",
        "payload = {\n",
        "        'aud': 'https://iam.api.cloud.yandex.net/iam/v1/tokens',\n",
        "        'iss': service_account_id,\n",
        "        'iat': now,\n",
        "        'exp': now + 360}\n",
        "\n",
        "# Формирование JWT\n",
        "encoded_token = jwt.encode(\n",
        "    payload,\n",
        "    private_key,\n",
        "    algorithm='PS256',\n",
        "    headers={'kid': key_id})\n",
        "\n",
        "url = 'https://iam.api.cloud.yandex.net/iam/v1/tokens'\n",
        "x = requests.post(url,  headers={'Content-Type': 'application/json'}, json = {'jwt': encoded_token}).json()\n",
        "iam_token = x['iamToken']"
      ],
      "metadata": {
        "id": "M_lWcFSSrfMl"
      },
      "execution_count": 84,
      "outputs": []
    },
    {
      "cell_type": "markdown",
      "source": [
        "# Инициализация базы векторных представлений"
      ],
      "metadata": {
        "id": "6aofrSjJqcth"
      }
    },
    {
      "cell_type": "code",
      "source": [
        "!pip install -q langchain_community langchain yandexcloud > /dev/null"
      ],
      "metadata": {
        "id": "0hb6s6YIqh3W"
      },
      "execution_count": 85,
      "outputs": []
    },
    {
      "cell_type": "code",
      "source": [
        "# llm\n",
        "folder = 'b1g01stbeeo96j8kfaiv'\n",
        "model_uri = f'gpt://{folder}/yandexgpt-lite/latest'\n",
        "model_uri"
      ],
      "metadata": {
        "colab": {
          "base_uri": "https://localhost:8080/",
          "height": 35
        },
        "id": "tigoe6v_rBPv",
        "outputId": "ed87c612-67f9-4ba6-c905-dfb7d3d9a00a"
      },
      "execution_count": 86,
      "outputs": [
        {
          "output_type": "execute_result",
          "data": {
            "text/plain": [
              "'gpt://b1g01stbeeo96j8kfaiv/yandexgpt-lite/latest'"
            ],
            "application/vnd.google.colaboratory.intrinsic+json": {
              "type": "string"
            }
          },
          "metadata": {},
          "execution_count": 86
        }
      ]
    },
    {
      "cell_type": "code",
      "source": [
        "from langchain_community.embeddings.yandex import YandexGPTEmbeddings\n",
        "\n",
        "# Cоздаем объект YandexGPTEmbeddings для построения векторов с помощью YandexGPT\n",
        "embeddings = YandexGPTEmbeddings(iam_token=iam_token, folder_id=folder, sleep_interval=0.1)"
      ],
      "metadata": {
        "id": "HbB7tR50q-nu"
      },
      "execution_count": 138,
      "outputs": []
    },
    {
      "cell_type": "code",
      "source": [
        "from langchain_community.vectorstores import Clickhouse, ClickhouseSettings\n",
        "\n",
        "ch_config = ClickhouseSettings(host=HOST, port=PORT, username=USER, password=PASSWORD)\n",
        "docsearch = Clickhouse(embedding=embeddings, config=ch_config, verify=VERIFY, ca_cert=CA)\n",
        "docsearch"
      ],
      "metadata": {
        "colab": {
          "base_uri": "https://localhost:8080/"
        },
        "id": "VI8nEIQuquet",
        "outputId": "9a3b2133-4f29-4f5f-a03f-c2c3cd5ee579"
      },
      "execution_count": 139,
      "outputs": [
        {
          "output_type": "execute_result",
          "data": {
            "text/plain": [
              "\u001b[92m\u001b[1mdefault.langchain @ rc1d-uq593a42e02ikh2k.mdb.yandexcloud.net:8443\u001b[0m\n",
              "\n",
              "\u001b[1musername: admin\u001b[0m\n",
              "\n",
              "Table Schema:\n",
              "---------------------------------------------------\n",
              "|\u001b[94mid                      \u001b[0m|\u001b[96mNullable(String)        \u001b[0m|\n",
              "|\u001b[94mdocument                \u001b[0m|\u001b[96mNullable(String)        \u001b[0m|\n",
              "|\u001b[94membedding               \u001b[0m|\u001b[96mArray(Float32)          \u001b[0m|\n",
              "|\u001b[94mmetadata                \u001b[0m|\u001b[96mObject('json')          \u001b[0m|\n",
              "|\u001b[94muuid                    \u001b[0m|\u001b[96mUUID                    \u001b[0m|\n",
              "---------------------------------------------------"
            ]
          },
          "metadata": {},
          "execution_count": 139
        }
      ]
    },
    {
      "cell_type": "markdown",
      "source": [
        "# Очистить базу"
      ],
      "metadata": {
        "id": "YRVsGpjbrwfv"
      }
    },
    {
      "cell_type": "code",
      "source": [
        "docsearch.drop()"
      ],
      "metadata": {
        "id": "DVWn6Sy1rzo-"
      },
      "execution_count": 114,
      "outputs": []
    },
    {
      "cell_type": "markdown",
      "source": [
        "# Заполнить базу"
      ],
      "metadata": {
        "id": "Fn6DnV7Lr2TN"
      }
    },
    {
      "cell_type": "code",
      "source": [
        "from langchain_core.documents import Document\n",
        "\n",
        "documents = [Document(page_content=v) for k, v in docs.items()]\n",
        "ids = [k for k, v in docs.items()]\n",
        "\n",
        "ids[:2], documents[:2]"
      ],
      "metadata": {
        "colab": {
          "base_uri": "https://localhost:8080/"
        },
        "id": "6S17ej4RqUiO",
        "outputId": "cc3369b9-c14a-4722-d2ab-544f0de573f8"
      },
      "execution_count": 116,
      "outputs": [
        {
          "output_type": "execute_result",
          "data": {
            "text/plain": [
              "(['Accordion:0:0', 'Accordion:0:1'],\n",
              " [Document(page_content='Accordion\\n\\nОписание:\\nКомпонент \"аккордеон\" предоставляет большие объемы контента в ограниченном пространстве с помощью пошагового раскрытия. Заголовок обеспечивает пользователю общий обзор содержимого, позволяя решить, какие разделы читать.\\n\\n        Аккордеоны могут сделать обработку информации и поиск более эффективными. Однако они скрывают контент от пользователей, и важно учесть, что пользователь может не заметить или не прочитать весь включенный контент. Если пользователь, вероятно, должен прочесть весь контент, не используйте аккордеон, так как это добавляет дополнительный клик; вместо этого используйте полноценную прокручиваемую страницу с обычными заголовками.\\nАккордеон по умолчанию\\n\\nКод:\\nimport { Accordion } from \\'@nlmk/ds-2.0\\';\\n\\nconst items = [\\n    {\\n      id: 1,\\n      title: \\'First accordion item\\',\\n      content: \\'Lorem ipsum\\',\\n      initiallyExpanded: true\\n    },\\n    {\\n      id: 2,\\n      title: \\'2nd accordion item\\',\\n      content: \\'Lorem ipsum\\'\\n    },\\n    {\\n      id: 3,\\n      title: \\'Last accordion item\\',\\n      content: \\'Lorem ipsum\\'\\n    }\\n  ]\\n\\nexport default App = () => (\\n  <Accordion items={items} />\\n)\\n\\n\\n'),\n",
              "  Document(page_content='Accordion\\n\\nОписание:\\nКомпонент \"аккордеон\" предоставляет большие объемы контента в ограниченном пространстве с помощью пошагового раскрытия. Заголовок обеспечивает пользователю общий обзор содержимого, позволяя решить, какие разделы читать.\\n\\n        Аккордеоны могут сделать обработку информации и поиск более эффективными. Однако они скрывают контент от пользователей, и важно учесть, что пользователь может не заметить или не прочитать весь включенный контент. Если пользователь, вероятно, должен прочесть весь контент, не используйте аккордеон, так как это добавляет дополнительный клик; вместо этого используйте полноценную прокручиваемую страницу с обычными заголовками.\\nВарианты размеров аккордеона: xs | s | m\\n\\nКод:\\nimport { Accordion } from \\'@nlmk/ds-2.0\\';\\n\\nconst items = [\\n  {\\n    id: 1,\\n    title: \\'First accordion item\\',\\n    content: \\'Lorem ipsum\\',\\n    initiallyExpanded: true\\n  },\\n  {\\n    id: 2,\\n    title: \\'2nd accordion item\\',\\n    content: \\'Lorem ipsum\\'\\n  },\\n  {\\n    id: 3,\\n    title: \\'Last accordion item\\',\\n    content: \\'Lorem ipsum\\'\\n  }\\n]\\n\\nexport default App = () => (\\n  <>\\n  <Accordion size=\"m\" items={items} />\\n  <Accordion size=\"s\" items={items} />\\n  <Accordion size=\"xs\" items={items} />\\n  </>\\n)\\n\\n\\n')])"
            ]
          },
          "metadata": {},
          "execution_count": 116
        }
      ]
    },
    {
      "cell_type": "code",
      "source": [
        "docsearch.add_documents(documents=documents, ids=ids)"
      ],
      "metadata": {
        "colab": {
          "base_uri": "https://localhost:8080/"
        },
        "id": "Tcj3QFFRr7C1",
        "outputId": "301b5eee-96fc-4400-ea62-5de24d95af02"
      },
      "execution_count": 117,
      "outputs": [
        {
          "output_type": "stream",
          "name": "stderr",
          "text": [
            "Inserting data...: 100%|██████████| 164/164 [00:02<00:00, 68.28it/s]\n"
          ]
        },
        {
          "output_type": "execute_result",
          "data": {
            "text/plain": [
              "['Accordion:0:0',\n",
              " 'Accordion:0:1',\n",
              " 'Accordion:0:2',\n",
              " 'Accordion:0:3',\n",
              " 'Alert:1:0',\n",
              " 'Alert:1:1',\n",
              " 'Alert:1:2',\n",
              " 'Alert:1:3',\n",
              " 'AttachFiles:2:0',\n",
              " 'AttachFiles:2:1',\n",
              " 'AttachFiles:2:2',\n",
              " 'AttachFiles:2:3',\n",
              " 'AttachFiles:2:4',\n",
              " 'AttachFiles:2:5',\n",
              " 'AttachFiles:2:6',\n",
              " 'AttachFiles:2:7',\n",
              " 'Avatar:3:0',\n",
              " 'Avatar:3:1',\n",
              " 'Avatar:3:2',\n",
              " 'Avatar:3:3',\n",
              " 'Avatar:3:4',\n",
              " 'Avatar:3:5',\n",
              " 'Badge:4:0',\n",
              " 'Badge:4:1',\n",
              " 'Badge:4:2',\n",
              " 'Badge:4:3',\n",
              " 'Box:5:0',\n",
              " 'Breadcrumbs:6:0',\n",
              " 'Breadcrumbs:6:1',\n",
              " 'Breadcrumbs:6:2',\n",
              " 'Button:7:0',\n",
              " 'Button:7:1',\n",
              " 'Button:7:2',\n",
              " 'Button:7:3',\n",
              " 'Button:7:4',\n",
              " 'Card:8:0',\n",
              " 'Card:8:1',\n",
              " 'Checkbox:9:0',\n",
              " 'Checkbox:9:1',\n",
              " 'Checkbox:9:2',\n",
              " 'Checkbox:9:3',\n",
              " 'Chip:10:0',\n",
              " 'Chip:10:1',\n",
              " 'Chip:10:2',\n",
              " 'Chip:10:3',\n",
              " 'Chip:10:4',\n",
              " 'Chip:10:5',\n",
              " 'DatePicker:11:0',\n",
              " 'DatePicker:11:1',\n",
              " 'DatePicker:11:2',\n",
              " 'DatePicker:11:3',\n",
              " 'Divider:12:0',\n",
              " 'Divider:12:1',\n",
              " 'Divider:12:2',\n",
              " 'Divider:12:3',\n",
              " 'Divider:12:4',\n",
              " 'Divider:12:5',\n",
              " 'DragAndDrop:13:0',\n",
              " 'Drawer:14:0',\n",
              " 'Drawer:14:1',\n",
              " 'Dropdown:15:0',\n",
              " 'Dropdown:15:1',\n",
              " 'ErrorPage:16:0',\n",
              " 'Grid:17:0',\n",
              " 'Grid:17:1',\n",
              " 'Grid:17:2',\n",
              " 'Grid:17:3',\n",
              " 'Grid:17:4',\n",
              " 'Grid:17:5',\n",
              " 'Grid:17:6',\n",
              " 'Grid:17:7',\n",
              " 'Grid:17:8',\n",
              " 'Header:18:0',\n",
              " 'Header:18:1',\n",
              " 'Header:18:2',\n",
              " 'Header:18:3',\n",
              " 'Header:18:4',\n",
              " 'Header:18:5',\n",
              " 'Header:18:6',\n",
              " 'Header:18:7',\n",
              " 'Icon:19:0',\n",
              " 'ImagePicture:20:0',\n",
              " 'ImagePicture:20:1',\n",
              " 'ImagePicture:20:2',\n",
              " 'Input:21:0',\n",
              " 'Input:21:1',\n",
              " 'Input:21:2',\n",
              " 'Input:21:3',\n",
              " 'Input:21:4',\n",
              " 'Input:21:5',\n",
              " 'Input:21:6',\n",
              " 'Input:21:7',\n",
              " 'Input:21:8',\n",
              " 'Input:21:9',\n",
              " 'InputRange:22:0',\n",
              " 'InputRange:22:1',\n",
              " 'InputSlider:23:0',\n",
              " 'InputSlider:23:1',\n",
              " 'Link:24:0',\n",
              " 'Link:24:1',\n",
              " 'Link:24:2',\n",
              " 'Modal:25:0',\n",
              " 'Modal:25:1',\n",
              " 'Modal:25:2',\n",
              " 'ProgressBar:26:0',\n",
              " 'ProgressBar:26:1',\n",
              " 'PseudoInput:27:0',\n",
              " 'PseudoInput:27:1',\n",
              " 'PseudoInput:27:2',\n",
              " 'Radio:28:0',\n",
              " 'Radio:28:1',\n",
              " 'SegmentButtonGroup:29:0',\n",
              " 'Select:30:0',\n",
              " 'Select:30:1',\n",
              " 'Select:30:2',\n",
              " 'Select:30:3',\n",
              " 'Select:30:4',\n",
              " 'Select:30:5',\n",
              " 'Select:30:6',\n",
              " 'Select:30:7',\n",
              " 'Sidebar:31:0',\n",
              " 'SimpleSelect:32:0',\n",
              " 'SimpleSelect:32:1',\n",
              " 'SimpleSelect:32:2',\n",
              " 'SimpleSelect:32:3',\n",
              " 'SimpleSelect:32:4',\n",
              " 'SimpleSelect:32:5',\n",
              " 'SkeletonLoader:33:0',\n",
              " 'SkeletonLoader:33:1',\n",
              " 'SlideToggle:34:0',\n",
              " 'Snackbar:35:0',\n",
              " 'Snackbar:35:1',\n",
              " 'Snackbar:35:2',\n",
              " 'Snackbar:35:3',\n",
              " 'Snackbar:35:4',\n",
              " 'Snackbar:35:5',\n",
              " 'Snackbar:35:6',\n",
              " 'Spinner:36:0',\n",
              " 'Spinner:36:1',\n",
              " 'Spinner:36:2',\n",
              " 'Spinner:36:3',\n",
              " 'Stepper:37:0',\n",
              " 'Switch:38:0',\n",
              " 'Switch:38:1',\n",
              " 'Switch:38:2',\n",
              " 'Switch:38:3',\n",
              " 'Tabs:39:0',\n",
              " 'TimePicker:40:0',\n",
              " 'TimePicker:40:1',\n",
              " 'TimePicker:40:2',\n",
              " 'ToggleButtonGroup:41:0',\n",
              " 'ToggleButtonGroup:41:1',\n",
              " 'ToggleButtonGroup:41:2',\n",
              " 'ToggleButtonGroup:41:3',\n",
              " 'ToggleButtonGroup:41:4',\n",
              " 'ToggleButtonGroup:41:5',\n",
              " 'ToggleButtonGroup:41:6',\n",
              " 'Tooltip:42:0',\n",
              " 'Tooltip:42:1',\n",
              " 'Tooltip:42:2',\n",
              " 'Tooltip:42:3',\n",
              " 'Tooltip:42:4',\n",
              " 'Typography:43:0',\n",
              " 'Typography:43:1']"
            ]
          },
          "metadata": {},
          "execution_count": 117
        }
      ]
    },
    {
      "cell_type": "markdown",
      "source": [
        "# Add custom components example"
      ],
      "metadata": {
        "id": "LaSuE4aHrgC9"
      }
    },
    {
      "cell_type": "code",
      "source": [
        "from bs4 import BeautifulSoup\n",
        "\n",
        "url = 'https://github.com/Hakaton-NLMK/frontend/tree/main/src/examples'\n",
        "\n",
        "driver.get(url)\n",
        "\n",
        "soup = BeautifulSoup(driver.page_source, 'html.parser')\n",
        "# print(soup.prettify())\n",
        "\n",
        "table = soup.find('table', {'class': 'Box-sc-g0xbh4-0'})\n",
        "\n",
        "tbody = soup.find('tbody')\n",
        "\n",
        "custom_code_components = []\n",
        "\n",
        "tr = tbody.find_all('tr', {'class': 'react-directory-row'})\n",
        "for t in tr:\n",
        "  td = t.find('td', {'class': 'react-directory-row-name-cell-large-screen'})\n",
        "  custom_code_components.append(td.get_text())\n",
        "\n",
        "custom_code_components"
      ],
      "metadata": {
        "colab": {
          "base_uri": "https://localhost:8080/"
        },
        "id": "q94o8lRvsFnz",
        "outputId": "e13a9539-250f-4872-a499-90795ad61013"
      },
      "execution_count": 123,
      "outputs": [
        {
          "output_type": "execute_result",
          "data": {
            "text/plain": [
              "['FullPage.tsx', 'LoginForm.tsx', 'NavigationPanel.tsx', 'ProductCard.tsx']"
            ]
          },
          "metadata": {},
          "execution_count": 123
        }
      ]
    },
    {
      "cell_type": "code",
      "source": [
        "descriptions = [\n",
        "  \"Создай страницу с Defoult Sidebar слева, Header Notification сверху страницы, далее ниже Tabs Default, ниже Defoult Input, ниже Defoult Button.\",\n",
        "  \"Создай форму входа с полями для email и пароля и кнопкой 'Войти'.\",\n",
        "  \"Создай панель навигации с логотипом и тремя ссылками: 'Главная', 'О нас', 'Контакты'.\",\n",
        "  \"Создай карточку продукта с изображением, названием и ценой.\",\n",
        "]\n",
        "\n",
        "name2description = { k: v for k, v in zip(custom_code_components, descriptions) }\n",
        "name2description"
      ],
      "metadata": {
        "colab": {
          "base_uri": "https://localhost:8080/"
        },
        "id": "CKsYh2EIrfWr",
        "outputId": "0aa872ee-8884-47b4-adfb-e826a2abccc4"
      },
      "execution_count": 124,
      "outputs": [
        {
          "output_type": "execute_result",
          "data": {
            "text/plain": [
              "{'FullPage.tsx': 'Создай страницу с Defoult Sidebar слева, Header Notification сверху страницы, далее ниже Tabs Default, ниже Defoult Input, ниже Defoult Button.',\n",
              " 'LoginForm.tsx': \"Создай форму входа с полями для email и пароля и кнопкой 'Войти'.\",\n",
              " 'NavigationPanel.tsx': \"Создай панель навигации с логотипом и тремя ссылками: 'Главная', 'О нас', 'Контакты'.\",\n",
              " 'ProductCard.tsx': 'Создай карточку продукта с изображением, названием и ценой.'}"
            ]
          },
          "metadata": {},
          "execution_count": 124
        }
      ]
    },
    {
      "cell_type": "code",
      "source": [
        "from selenium.webdriver.common.by import By\n",
        "import time\n",
        "\n",
        "files = os.listdir(dir)\n",
        "\n",
        "for i, c in enumerate(custom_code_components):\n",
        "    # if i == 1: break\n",
        "    if c in files: continue\n",
        "\n",
        "    c_url = f'{url}/{c}'\n",
        "    driver.get(c_url)\n",
        "\n",
        "    soup = BeautifulSoup(driver.page_source, 'html.parser')\n",
        "    # print(soup.prettify())\n",
        "\n",
        "    # download_source_button = soup.find('button', {'data-testid': 'download-raw-button'})\n",
        "\n",
        "    download_source_button = driver.find_element(By.XPATH, \"//button[@data-testid='download-raw-button']\")\n",
        "    download_source_button.click()\n",
        "\n",
        "    time.sleep(10)"
      ],
      "metadata": {
        "id": "is9XWu-Bv4db"
      },
      "execution_count": 125,
      "outputs": []
    },
    {
      "cell_type": "code",
      "source": [
        "import os\n",
        "\n",
        "files = os.listdir(dir)\n",
        "print(f\"{files=}\")\n",
        "name2code = {}\n",
        "\n",
        "for i, f in enumerate(files):\n",
        "    if not f.endswith('.tsx'): continue\n",
        "    code = open(f'{dir}/{f}', \"r\").read()\n",
        "    name2code[f] = code"
      ],
      "metadata": {
        "colab": {
          "base_uri": "https://localhost:8080/"
        },
        "id": "KV81XnIv3xVG",
        "outputId": "4bc60bcf-7dcb-4104-f061-85e775195aaa"
      },
      "execution_count": 126,
      "outputs": [
        {
          "output_type": "stream",
          "name": "stdout",
          "text": [
            "files=['LoginForm.tsx', '.ipynb_checkpoints', 'ProductCard.tsx', 'FullPage.tsx', 'NavigationPanel.tsx']\n"
          ]
        }
      ]
    },
    {
      "cell_type": "code",
      "source": [
        "name2code.keys()"
      ],
      "metadata": {
        "colab": {
          "base_uri": "https://localhost:8080/"
        },
        "id": "FOgC2_9v3W7g",
        "outputId": "233c4f1c-a783-42fc-84cc-4ddcfdd8de85"
      },
      "execution_count": 127,
      "outputs": [
        {
          "output_type": "execute_result",
          "data": {
            "text/plain": [
              "dict_keys(['LoginForm.tsx', 'ProductCard.tsx', 'FullPage.tsx', 'NavigationPanel.tsx'])"
            ]
          },
          "metadata": {},
          "execution_count": 127
        }
      ]
    },
    {
      "cell_type": "code",
      "source": [
        "from langchain_core.documents import Document\n",
        "\n",
        "custom_code_docs = [Document(page_content=f'{c.replace(\".tsx\", \"\")}\\n\\nОписание:\\n{name2description[c]}\\n\\nКод:\\n{name2code[c]}\\n') for c in custom_code_components]\n",
        "custom_code_ids = [f\"{c.replace('.tsx', '')}:{i}\" for i, c in enumerate(custom_code_components)]\n",
        "\n",
        "print(custom_code_docs[1].page_content)"
      ],
      "metadata": {
        "colab": {
          "base_uri": "https://localhost:8080/"
        },
        "id": "VGgCWWnV4Smx",
        "outputId": "cabfb86b-7e37-46dd-b10f-67886c67f1be"
      },
      "execution_count": 135,
      "outputs": [
        {
          "output_type": "stream",
          "name": "stdout",
          "text": [
            "LoginForm\n",
            "\n",
            "Описание:\n",
            "Создай форму входа с полями для email и пароля и кнопкой 'Войти'.\n",
            "\n",
            "Код:\n",
            "import React, { useState } from \"react\";\n",
            "import { Card, Typography, Box, Input, Button } from \"@nlmk/ds-2.0\";\n",
            "\n",
            "interface LoginFormProps {\n",
            "  onSubmit?: (email: string, password: string) => void;\n",
            "}\n",
            "\n",
            "const LoginForm: React.FC<LoginFormProps> = ({\n",
            "  onSubmit = (email, password) =>\n",
            "    console.log(\"Login submitted:\", { email, password }),\n",
            "}) => {\n",
            "  const [email, setEmail] = useState<string>(\"\");\n",
            "  const [password, setPassword] = useState<string>(\"\");\n",
            "\n",
            "  const handleSubmit = (e: React.FormEvent) => {\n",
            "    e.preventDefault();\n",
            "    onSubmit(email, password);\n",
            "  };\n",
            "\n",
            "  return (\n",
            "    <Card>\n",
            "      <form onSubmit={handleSubmit}>\n",
            "        <Box flexDirection=\"column\" gap=\"var(--24-space)\">\n",
            "          <Typography variant=\"Heading3\">Вход</Typography>\n",
            "          <Input\n",
            "            type=\"email\"\n",
            "            label=\"Email\"\n",
            "            value={email}\n",
            "            onChange={(e) => setEmail(e.target.value)}\n",
            "            required\n",
            "          />\n",
            "          <Input\n",
            "            type=\"password\"\n",
            "            label=\"Пароль\"\n",
            "            value={password}\n",
            "            onChange={(e) => setPassword(e.target.value)}\n",
            "            required\n",
            "          />\n",
            "          <Button type=\"submit\" variant=\"primary\">\n",
            "            Войти\n",
            "          </Button>\n",
            "        </Box>\n",
            "      </form>\n",
            "    </Card>\n",
            "  );\n",
            "};\n",
            "\n",
            "export default LoginForm;\n",
            "\n",
            "\n"
          ]
        }
      ]
    },
    {
      "cell_type": "code",
      "source": [
        "custom_code_ids"
      ],
      "metadata": {
        "colab": {
          "base_uri": "https://localhost:8080/"
        },
        "id": "PNzPvEyh_Lah",
        "outputId": "c839e77e-6d96-4666-fdea-eb4f65e74092"
      },
      "execution_count": 136,
      "outputs": [
        {
          "output_type": "execute_result",
          "data": {
            "text/plain": [
              "['FullPage:0', 'LoginForm:1', 'NavigationPanel:2', 'ProductCard:3']"
            ]
          },
          "metadata": {},
          "execution_count": 136
        }
      ]
    },
    {
      "cell_type": "code",
      "source": [
        "docsearch.add_documents(documents=custom_code_docs[1:], ids=custom_code_ids[1:])"
      ],
      "metadata": {
        "colab": {
          "base_uri": "https://localhost:8080/"
        },
        "id": "-I8Cfbd84rlF",
        "outputId": "012f0787-9fcc-49be-bfd6-9f7e763c52d1"
      },
      "execution_count": 146,
      "outputs": [
        {
          "output_type": "stream",
          "name": "stderr",
          "text": [
            "Inserting data...: 100%|██████████| 3/3 [00:00<00:00, 9612.61it/s]\n"
          ]
        },
        {
          "output_type": "execute_result",
          "data": {
            "text/plain": [
              "['LoginForm:1', 'NavigationPanel:2', 'ProductCard:3']"
            ]
          },
          "metadata": {},
          "execution_count": 146
        }
      ]
    },
    {
      "cell_type": "code",
      "source": [],
      "metadata": {
        "id": "7EU-5wZCZYsG"
      },
      "execution_count": null,
      "outputs": []
    }
  ]
}