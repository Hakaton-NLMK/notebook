{
  "nbformat": 4,
  "nbformat_minor": 0,
  "metadata": {
    "colab": {
      "provenance": []
    },
    "kernelspec": {
      "name": "python3",
      "display_name": "Python 3"
    },
    "language_info": {
      "name": "python"
    }
  },
  "cells": [
    {
      "cell_type": "markdown",
      "source": [
        "# Connect to ClickHouse Database"
      ],
      "metadata": {
        "id": "ow2kzqLXGHRA"
      }
    },
    {
      "cell_type": "code",
      "source": [
        "!mkdir -p /home/jupyter/datasphere/project/.clickhouse && \\\n",
        "wget \"https://storage.yandexcloud.net/cloud-certs/CA.pem\" \\\n",
        "     --output-document /home/jupyter/datasphere/project/.clickhouse/root.crt && \\\n",
        "chmod 0600 /home/jupyter/datasphere/project/.clickhouse/root.crt"
      ],
      "metadata": {
        "colab": {
          "base_uri": "https://localhost:8080/"
        },
        "id": "Kt5R0c78GJ-6",
        "outputId": "be2988ba-34dc-46fc-ff25-7d73b3351998"
      },
      "execution_count": 174,
      "outputs": [
        {
          "output_type": "stream",
          "name": "stdout",
          "text": [
            "--2024-09-08 17:35:24--  https://storage.yandexcloud.net/cloud-certs/CA.pem\n",
            "Resolving storage.yandexcloud.net (storage.yandexcloud.net)... 213.180.193.243, 2a02:6b8::1d9\n",
            "Connecting to storage.yandexcloud.net (storage.yandexcloud.net)|213.180.193.243|:443... connected.\n",
            "HTTP request sent, awaiting response... 200 OK\n",
            "Length: 3579 (3.5K) [application/x-x509-ca-cert]\n",
            "Saving to: ‘/home/jupyter/datasphere/project/.clickhouse/root.crt’\n",
            "\n",
            "/home/jupyter/datas 100%[===================>]   3.50K  --.-KB/s    in 0s      \n",
            "\n",
            "2024-09-08 17:35:24 (1.05 GB/s) - ‘/home/jupyter/datasphere/project/.clickhouse/root.crt’ saved [3579/3579]\n",
            "\n"
          ]
        }
      ]
    },
    {
      "cell_type": "code",
      "source": [
        "# указываем параметры подключения\n",
        "CA = '/home/jupyter/datasphere/project/.clickhouse/root.crt' # если вы не меняли путь при скачивании сертификата\n",
        "\n",
        "VERIFY = True\n",
        "SECURE = True\n",
        "USER = 'admin'\n",
        "PASSWORD = 'hakaton1'\n",
        "HOST = \"rc1d-uq593a42e02ikh2k.mdb.yandexcloud.net\" # адрес Clickhouse\n",
        "PORT = 8443"
      ],
      "metadata": {
        "id": "iWr22zbZGaiU"
      },
      "execution_count": 175,
      "outputs": []
    },
    {
      "cell_type": "code",
      "source": [
        "!pip install clickhouse_connect > /dev/null"
      ],
      "metadata": {
        "id": "kSV59cnXGc28"
      },
      "execution_count": 176,
      "outputs": []
    },
    {
      "cell_type": "code",
      "source": [
        "# импортируем библиотеку\n",
        "import clickhouse_connect\n",
        "\n",
        "# выполняем запрос - в случае успешного выполнения будет показана текущая версия Clickhouse\n",
        "with clickhouse_connect.get_client(\n",
        "            host=HOST, port=PORT, username=USER,\n",
        "            password=PASSWORD, secure=SECURE, verify=VERIFY, ca_cert=CA) as ch_client:\n",
        "        print(ch_client.command('SELECT version()'))"
      ],
      "metadata": {
        "colab": {
          "base_uri": "https://localhost:8080/"
        },
        "id": "MQzmKaulGgQI",
        "outputId": "8e6dc95d-5641-4179-d1e9-7245b16e42a1"
      },
      "execution_count": 177,
      "outputs": [
        {
          "output_type": "stream",
          "name": "stdout",
          "text": [
            "24.3.10.33\n"
          ]
        }
      ]
    },
    {
      "cell_type": "markdown",
      "source": [
        "# Генерация IAM токена"
      ],
      "metadata": {
        "id": "OFfLas13D94G"
      }
    },
    {
      "cell_type": "code",
      "source": [
        "# Устанавливаем пакеты, необходимые для обращения к YandexGPT API\n",
        "%pip uninstall jwt\n",
        "%pip install PyJWT -U"
      ],
      "metadata": {
        "colab": {
          "base_uri": "https://localhost:8080/"
        },
        "id": "reSP_EJAS1XI",
        "outputId": "f33145a3-ca8a-4815-948f-5ae6ab2e423a"
      },
      "execution_count": 178,
      "outputs": [
        {
          "output_type": "stream",
          "name": "stdout",
          "text": [
            "\u001b[33mWARNING: Skipping jwt as it is not installed.\u001b[0m\u001b[33m\n",
            "\u001b[0mRequirement already satisfied: PyJWT in /usr/local/lib/python3.10/dist-packages (2.9.0)\n"
          ]
        }
      ]
    },
    {
      "cell_type": "code",
      "source": [
        "import requests\n",
        "import json\n",
        "import time\n",
        "import jwt\n",
        "import os"
      ],
      "metadata": {
        "id": "20DCZxM0S2Uo"
      },
      "execution_count": 179,
      "outputs": []
    },
    {
      "cell_type": "code",
      "source": [
        "# Замените <идентификатор_сервисного_аккаунта> на ваше значение\n",
        "service_account_id = \"aje286em9u4ibs8572di\""
      ],
      "metadata": {
        "id": "zmjX9NSbS5CX"
      },
      "execution_count": 180,
      "outputs": []
    },
    {
      "cell_type": "code",
      "source": [
        "with open('/content/authorized_key.json') as f:\n",
        "    authorized_key = json.load(f)"
      ],
      "metadata": {
        "id": "mBwlw1_fS65H"
      },
      "execution_count": 181,
      "outputs": []
    },
    {
      "cell_type": "code",
      "source": [
        "# Замените <идентификатор_ключа> на ваше значение\n",
        "key_id = \"ajeo9id7551hpq15fv3o\"\n",
        "private_key = authorized_key['private_key']"
      ],
      "metadata": {
        "id": "MzbF1Ud_TH2t"
      },
      "execution_count": 182,
      "outputs": []
    },
    {
      "cell_type": "code",
      "source": [
        "now = int(time.time())\n",
        "payload = {\n",
        "        'aud': 'https://iam.api.cloud.yandex.net/iam/v1/tokens',\n",
        "        'iss': service_account_id,\n",
        "        'iat': now,\n",
        "        'exp': now + 360}\n",
        "\n",
        "# Формирование JWT\n",
        "encoded_token = jwt.encode(\n",
        "    payload,\n",
        "    private_key,\n",
        "    algorithm='PS256',\n",
        "    headers={'kid': key_id})\n",
        "\n",
        "url = 'https://iam.api.cloud.yandex.net/iam/v1/tokens'\n",
        "x = requests.post(url,  headers={'Content-Type': 'application/json'}, json = {'jwt': encoded_token}).json()\n",
        "iam_token = x['iamToken']"
      ],
      "metadata": {
        "id": "S4iPkOTjTJT1"
      },
      "execution_count": 183,
      "outputs": []
    },
    {
      "cell_type": "markdown",
      "source": [
        "# RAG Pipeline"
      ],
      "metadata": {
        "id": "b-SG8dg2EOTI"
      }
    },
    {
      "cell_type": "code",
      "source": [
        "!pip install -q langchain_community langchain yandexcloud > /dev/null"
      ],
      "metadata": {
        "id": "HMEj-50tEgw1"
      },
      "execution_count": 184,
      "outputs": []
    },
    {
      "cell_type": "code",
      "source": [
        "# llm\n",
        "folder = 'b1g01stbeeo96j8kfaiv'\n",
        "model_uri = f'gpt://{folder}/yandexgpt-lite/latest'\n",
        "model_uri"
      ],
      "metadata": {
        "colab": {
          "base_uri": "https://localhost:8080/",
          "height": 35
        },
        "id": "6647pOMYEdP9",
        "outputId": "e291fcc2-ab00-4703-cf67-06c419ef3844"
      },
      "execution_count": 185,
      "outputs": [
        {
          "output_type": "execute_result",
          "data": {
            "text/plain": [
              "'gpt://b1g01stbeeo96j8kfaiv/yandexgpt-lite/latest'"
            ],
            "application/vnd.google.colaboratory.intrinsic+json": {
              "type": "string"
            }
          },
          "metadata": {},
          "execution_count": 185
        }
      ]
    },
    {
      "cell_type": "code",
      "source": [
        "from langchain_community.embeddings.yandex import YandexGPTEmbeddings\n",
        "\n",
        "# Cоздаем объект YandexGPTEmbeddings для построения векторов с помощью YandexGPT\n",
        "embeddings = YandexGPTEmbeddings(iam_token=iam_token, folder_id=folder)"
      ],
      "metadata": {
        "id": "_drt1jl9SeQU"
      },
      "execution_count": 186,
      "outputs": []
    },
    {
      "cell_type": "code",
      "source": [
        "from langchain_community.vectorstores import Clickhouse, ClickhouseSettings\n",
        "\n",
        "ch_config = ClickhouseSettings(host=HOST, port=PORT, username=USER, password=PASSWORD)\n",
        "\n",
        "docsearch = Clickhouse(embedding=embeddings, config=ch_config, verify=VERIFY, ca_cert=CA)"
      ],
      "metadata": {
        "id": "doAx4j9eRbFn"
      },
      "execution_count": 187,
      "outputs": []
    },
    {
      "cell_type": "code",
      "source": [
        "retriever = docsearch.as_retriever(\n",
        "    search_type=\"similarity_score_threshold\",\n",
        "    search_kwargs={\"k\": 1, \"score_threshold\": 0.5},\n",
        ")"
      ],
      "metadata": {
        "id": "iMda2BpKR3vc"
      },
      "execution_count": 188,
      "outputs": []
    },
    {
      "cell_type": "code",
      "source": [
        "from langchain.prompts import ChatPromptTemplate\n",
        "\n",
        "# Prompt\n",
        "template = \"\"\"\n",
        "Ты - генератор интерфейсов по запросу пользователя на естественном языке. Получая описание интрефейса, ты генерируешь код.\n",
        "Твой ответ должен содержать только код и не должен содержать описания или другого посторонего текста.\n",
        "Ты обязан использовать дизанйн компоненты системы НЛМК.\n",
        "Ответьте на вопрос, основываясь только на следующем контексте:\n",
        "{context}\n",
        "\n",
        "Вопрос: {question}\n",
        "\"\"\"\n",
        "\n",
        "prompt = ChatPromptTemplate.from_template(template)\n",
        "prompt"
      ],
      "metadata": {
        "colab": {
          "base_uri": "https://localhost:8080/"
        },
        "id": "ZelPpfOFCrnA",
        "outputId": "1321d3ba-824c-4396-c449-ad3295ab999a"
      },
      "execution_count": 189,
      "outputs": [
        {
          "output_type": "execute_result",
          "data": {
            "text/plain": [
              "ChatPromptTemplate(input_variables=['context', 'question'], messages=[HumanMessagePromptTemplate(prompt=PromptTemplate(input_variables=['context', 'question'], template='\\nТы - генератор интерфейсов по запросу пользователя на естественном языке. Получая описание интрефейса, ты генерируешь код.  \\nТвой ответ должен содержать только код и не должен содержать описания или другого посторонего текста.\\nТы обязан использовать дизанйн компоненты системы НЛМК. \\nОтветьте на вопрос, основываясь только на следующем контексте:\\n{context}\\n\\nВопрос: {question}\\n'))])"
            ]
          },
          "metadata": {},
          "execution_count": 189
        }
      ]
    },
    {
      "cell_type": "code",
      "source": [
        "from langchain_community.llms import YandexGPT\n",
        "\n",
        "llm = YandexGPT(iam_token=iam_token, model_uri=model_uri)"
      ],
      "metadata": {
        "id": "J3uCo6fUDpGD"
      },
      "execution_count": 190,
      "outputs": []
    },
    {
      "cell_type": "code",
      "source": [
        "# Chain\n",
        "chain = prompt | llm"
      ],
      "metadata": {
        "id": "uYjZ0_HaE0Q3"
      },
      "execution_count": 191,
      "outputs": []
    },
    {
      "cell_type": "code",
      "source": [
        "question = \"Создай карточку продукта с изображением, названием, ценой и кнопкой купить.\""
      ],
      "metadata": {
        "id": "zCKI8Ev2FAzX"
      },
      "execution_count": 192,
      "outputs": []
    },
    {
      "cell_type": "markdown",
      "source": [
        "# Использовать релевантные для запроса документы"
      ],
      "metadata": {
        "id": "5fQNLBOGHNJC"
      }
    },
    {
      "cell_type": "code",
      "source": [
        "results = docsearch.similarity_search(query=question, k=1)\n",
        "print(len(results))\n",
        "for doc in results: print(f\"* {doc.page_content} [{doc.metadata}]\")"
      ],
      "metadata": {
        "colab": {
          "base_uri": "https://localhost:8080/"
        },
        "id": "YsTUyn5BImnH",
        "outputId": "5ac55c00-7ecc-4a9e-a25b-862ece5eee58"
      },
      "execution_count": 193,
      "outputs": [
        {
          "output_type": "stream",
          "name": "stdout",
          "text": [
            "1\n",
            "* Card\n",
            "Компонент Card является функциональным компонентом, который предназначен для отображения карточки с различными элементами интерфейса, такими как изображение, заголовок, описание, значки, селектор и группа кнопок.\n",
            "Card по умолчанию\n",
            "import { Button, Card, Typography, Select } from '@nlmk/ds-2.0';\n",
            "\n",
            "export default  App = () => (\n",
            "  <>\n",
            "    <div style={{\n",
            "      backgroundColor: 'var(--steel-20)',\n",
            "      width: 'fit-content',\n",
            "      padding: '20px'\n",
            "  }}>\n",
            "    <Card>\n",
            "      <div\n",
            "        style={{\n",
            "          height: '200px',\n",
            "          width: '300px',\n",
            "          display: 'flex',\n",
            "          flexDirection: 'column',\n",
            "          gap: '10px'\n",
            "        }}\n",
            "      >\n",
            "        <Typography variant='Heading3'>\n",
            "          Заголовок\n",
            "        </Typography>\n",
            "\n",
            "        <Select\n",
            "          label=\"Выберите язык программирования\"\n",
            "          options={[\n",
            "            {\n",
            "              label: 'C++',\n",
            "              value: 'C++'\n",
            "            },\n",
            "            {\n",
            "              label: 'C#',\n",
            "              value: 'C#'\n",
            "            }]}\n",
            "        />\n",
            "\n",
            "        <div style={{ display: 'flex', gap: '8px', marginTop: 'auto' }}>\n",
            "          <Button>\n",
            "            Button\n",
            "          </Button>\n",
            "          <Button variant=\"secondary\">\n",
            "            Button\n",
            "          </Button>\n",
            "        </div>\n",
            "      </div>\n",
            "    </Card>\n",
            "  </div>\n",
            "</>\n",
            ")\n",
            "\n",
            " [{'_dummy': 0}]\n"
          ]
        }
      ]
    },
    {
      "cell_type": "code",
      "source": [
        "from langchain_core.output_parsers import StrOutputParser\n",
        "from langchain_core.runnables import RunnablePassthrough\n",
        "\n",
        "rag_chain = (\n",
        "    {\"context\": retriever, \"question\": RunnablePassthrough()}\n",
        "    | prompt\n",
        "    | llm\n",
        "    | StrOutputParser()\n",
        ")\n",
        "\n",
        "response = rag_chain.invoke(question)\n",
        "print(response)"
      ],
      "metadata": {
        "colab": {
          "base_uri": "https://localhost:8080/"
        },
        "id": "TAJy1w2DFuzN",
        "outputId": "242b5e75-217f-4df3-e3ea-9062a0fef8d2"
      },
      "execution_count": 194,
      "outputs": [
        {
          "output_type": "stream",
          "name": "stdout",
          "text": [
            "```\n",
            "import { Button, Card, Typography } from '@nlmk/ds-2.0';\n",
            "\n",
            "export default function App() {\n",
            "  return (\n",
            "    <div style={{ backgroundColor: 'var(--steel-20)', width: 'fit-content', padding: '20px' }}>\n",
            "      <Card>\n",
            "        <img src=\"product-image.jpg\" alt=\"Product image\" width=\"100%\" height=\"150px\" />\n",
            "        <div style={{ height: '200px', width: '300px', display: 'flex', flexDirection: 'column', gap: '10px' }} >\n",
            "          <Typography variant='Heading3'>\n",
            "            Название продукта\n",
            "          </Typography>\n",
            "          <Select label=\"Выберите язык программирования\" options={[{ label: 'C++', value: 'C++' }, { label: 'C#', value: 'C#' }]} />\n",
            "          <div style={{ display: 'flex', gap: '8px', marginTop: 'auto' }} >\n",
            "            <Button>Купить</Button>\n",
            "            <Button variant=\"secondary\">Подробнее</Button>\n",
            "          </div>\n",
            "        </div>\n",
            "      </Card>\n",
            "    </div>\n",
            "  );\n",
            "}\n",
            "```\n"
          ]
        }
      ]
    },
    {
      "cell_type": "code",
      "source": [],
      "metadata": {
        "id": "lgT_DN-uHVij"
      },
      "execution_count": null,
      "outputs": []
    }
  ]
}